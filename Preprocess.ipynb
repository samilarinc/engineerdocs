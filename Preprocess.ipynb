{
  "nbformat": 4,
  "nbformat_minor": 0,
  "metadata": {
    "colab": {
      "provenance": [],
      "collapsed_sections": [
        "uwbEiG1x7Nvc",
        "Hq_3D1697R9v"
      ],
      "authorship_tag": "ABX9TyNxa7DMHzKtRqGzPWTqzdY1",
      "include_colab_link": true
    },
    "kernelspec": {
      "name": "python3",
      "display_name": "Python 3"
    },
    "language_info": {
      "name": "python"
    }
  },
  "cells": [
    {
      "cell_type": "markdown",
      "metadata": {
        "id": "view-in-github",
        "colab_type": "text"
      },
      "source": [
        "<a href=\"https://colab.research.google.com/github/samilarinc/engineerdocs/blob/main/Preprocess.ipynb\" target=\"_parent\"><img src=\"https://colab.research.google.com/assets/colab-badge.svg\" alt=\"Open In Colab\"/></a>"
      ]
    },
    {
      "cell_type": "markdown",
      "source": [
        "# Download Data"
      ],
      "metadata": {
        "id": "uwbEiG1x7Nvc"
      }
    },
    {
      "cell_type": "code",
      "source": [
        "!gcloud auth login\n",
        "!gcloud auth application-default login"
      ],
      "metadata": {
        "id": "9BqP7inGNowX"
      },
      "execution_count": null,
      "outputs": []
    },
    {
      "cell_type": "code",
      "execution_count": null,
      "metadata": {
        "id": "5C7_uRvdLu2r"
      },
      "outputs": [],
      "source": [
        "!gsutil -m -q cp -r gs://engineerdocs/sakso ."
      ]
    },
    {
      "cell_type": "markdown",
      "source": [
        "# Import Headers"
      ],
      "metadata": {
        "id": "Hq_3D1697R9v"
      }
    },
    {
      "cell_type": "code",
      "source": [
        "import cv2\n",
        "import matplotlib.pyplot as plt\n",
        "import numpy as np\n",
        "import os\n",
        "import pydicom as dicom\n",
        "from tqdm import tqdm\n",
        "\n",
        "from skimage import filters\n",
        "from time import perf_counter"
      ],
      "metadata": {
        "id": "nLHOeGBQMv92"
      },
      "execution_count": 372,
      "outputs": []
    },
    {
      "cell_type": "markdown",
      "source": [
        "# Preprocess"
      ],
      "metadata": {
        "id": "Axr35bah7V8b"
      }
    },
    {
      "cell_type": "code",
      "source": [
        "def img_crop(gray_img, kernel_size):\n",
        "    img = 4095 - gray_img\n",
        "    thresh = filters.threshold_otsu(img)\n",
        "    binary = img > thresh\n",
        "\n",
        "    kernel = cv2.getStructuringElement(cv2.MORPH_RECT, kernel_size)\n",
        "    binary = cv2.morphologyEx(binary.astype(np.uint8), cv2.MORPH_GRADIENT, kernel)\n",
        "    contours, _ = cv2.findContours(binary, cv2.RETR_EXTERNAL, cv2.CHAIN_APPROX_SIMPLE)\n",
        "\n",
        "    breast_contour = max(contours, key=cv2.contourArea)\n",
        "    x, y, w, h = cv2.boundingRect(breast_contour)\n",
        "    cropped_img = img[y:y+h, x:x+w]\n",
        "\n",
        "    cropped_img = cv2.bitwise_not(cropped_img)\n",
        "    return cropped_img\n",
        "\n",
        "def img_normalize(img):\n",
        "    img = (img - img.min()) / (img.max() - img.min())\n",
        "    return img\n",
        "\n",
        "def img_clahe(img, clip, tile):\n",
        "    clahe_create = cv2.createCLAHE(clipLimit=clip, tileGridSize=tile)\n",
        "    clahe_img = clahe_create.apply(img)\n",
        "\n",
        "    return clahe_img\n",
        "\n",
        "def img_downsample(img, method, kernel_size):\n",
        "    if method == 'lanczos':\n",
        "        return cv2.resize(img, kernel_size, interpolation = cv2.INTER_LANCZOS4)\n",
        "    return \n",
        "\n",
        "def preprocess(img, do_downsample = False, do_normalize = False, down_method = 'lanczos', down_size = (1024, 1024), clip = 2.0, tile = (8, 8), crop_kernel = (100, 100)):\n",
        "    img = img_clahe(img_crop(img, crop_kernel), clip, tile)\n",
        "    if do_downsample:\n",
        "        img = img_downsample(img, down_method, down_size)\n",
        "    if do_normalize:\n",
        "        img = img_normalize(img)\n",
        "    return img"
      ],
      "metadata": {
        "id": "fEetWpaWXASa"
      },
      "execution_count": 378,
      "outputs": []
    },
    {
      "cell_type": "code",
      "source": [
        "folder_names = os.listdir('sakso')\n",
        "files = ('LCC', 'LMLO', 'RCC', 'RMLO')\n",
        "\n",
        "os.mkdir('processed')\n",
        "\n",
        "for i in tqdm(folder_names):\n",
        "    path = 'sakso/' + i\n",
        "    for j in files:\n",
        "        img_path = path + '/' + j + '.dcm'\n",
        "        ds = dicom.dcmread(img_path)\n",
        "        img = ds.pixel_array\n",
        "        img = preprocess(img, True)\n",
        "        np.save(f'processed/{i}_{j}.npy', img)"
      ],
      "metadata": {
        "colab": {
          "base_uri": "https://localhost:8080/",
          "height": 381
        },
        "id": "2TMx_lAX3JKG",
        "outputId": "97c5794e-4900-416a-ef61-3273e77c0fc5"
      },
      "execution_count": 386,
      "outputs": [
        {
          "output_type": "stream",
          "name": "stderr",
          "text": [
            "  6%|▌         | 87/1445 [01:19<20:43,  1.09it/s]\n"
          ]
        },
        {
          "output_type": "error",
          "ename": "KeyboardInterrupt",
          "evalue": "ignored",
          "traceback": [
            "\u001b[0;31m---------------------------------------------------------------------------\u001b[0m",
            "\u001b[0;31mKeyboardInterrupt\u001b[0m                         Traceback (most recent call last)",
            "\u001b[0;32m<ipython-input-386-bc58730ac864>\u001b[0m in \u001b[0;36m<module>\u001b[0;34m\u001b[0m\n\u001b[1;32m     10\u001b[0m         \u001b[0mds\u001b[0m \u001b[0;34m=\u001b[0m \u001b[0mdicom\u001b[0m\u001b[0;34m.\u001b[0m\u001b[0mdcmread\u001b[0m\u001b[0;34m(\u001b[0m\u001b[0mimg_path\u001b[0m\u001b[0;34m)\u001b[0m\u001b[0;34m\u001b[0m\u001b[0;34m\u001b[0m\u001b[0m\n\u001b[1;32m     11\u001b[0m         \u001b[0mimg\u001b[0m \u001b[0;34m=\u001b[0m \u001b[0mds\u001b[0m\u001b[0;34m.\u001b[0m\u001b[0mpixel_array\u001b[0m\u001b[0;34m\u001b[0m\u001b[0;34m\u001b[0m\u001b[0m\n\u001b[0;32m---> 12\u001b[0;31m         \u001b[0mimg\u001b[0m \u001b[0;34m=\u001b[0m \u001b[0mpreprocess\u001b[0m\u001b[0;34m(\u001b[0m\u001b[0mimg\u001b[0m\u001b[0;34m,\u001b[0m \u001b[0;32mTrue\u001b[0m\u001b[0;34m)\u001b[0m\u001b[0;34m\u001b[0m\u001b[0;34m\u001b[0m\u001b[0m\n\u001b[0m\u001b[1;32m     13\u001b[0m         \u001b[0mnp\u001b[0m\u001b[0;34m.\u001b[0m\u001b[0msave\u001b[0m\u001b[0;34m(\u001b[0m\u001b[0;34mf'processed/{i}_{j}.npy'\u001b[0m\u001b[0;34m,\u001b[0m \u001b[0mimg\u001b[0m\u001b[0;34m)\u001b[0m\u001b[0;34m\u001b[0m\u001b[0;34m\u001b[0m\u001b[0m\n",
            "\u001b[0;32m<ipython-input-378-9209f95c8658>\u001b[0m in \u001b[0;36mpreprocess\u001b[0;34m(img, do_downsample, do_normalize, down_method, down_size, clip, tile, crop_kernel)\u001b[0m\n\u001b[1;32m     31\u001b[0m \u001b[0;34m\u001b[0m\u001b[0m\n\u001b[1;32m     32\u001b[0m \u001b[0;32mdef\u001b[0m \u001b[0mpreprocess\u001b[0m\u001b[0;34m(\u001b[0m\u001b[0mimg\u001b[0m\u001b[0;34m,\u001b[0m \u001b[0mdo_downsample\u001b[0m \u001b[0;34m=\u001b[0m \u001b[0;32mFalse\u001b[0m\u001b[0;34m,\u001b[0m \u001b[0mdo_normalize\u001b[0m \u001b[0;34m=\u001b[0m \u001b[0;32mFalse\u001b[0m\u001b[0;34m,\u001b[0m \u001b[0mdown_method\u001b[0m \u001b[0;34m=\u001b[0m \u001b[0;34m'lanczos'\u001b[0m\u001b[0;34m,\u001b[0m \u001b[0mdown_size\u001b[0m \u001b[0;34m=\u001b[0m \u001b[0;34m(\u001b[0m\u001b[0;36m1024\u001b[0m\u001b[0;34m,\u001b[0m \u001b[0;36m1024\u001b[0m\u001b[0;34m)\u001b[0m\u001b[0;34m,\u001b[0m \u001b[0mclip\u001b[0m \u001b[0;34m=\u001b[0m \u001b[0;36m2.0\u001b[0m\u001b[0;34m,\u001b[0m \u001b[0mtile\u001b[0m \u001b[0;34m=\u001b[0m \u001b[0;34m(\u001b[0m\u001b[0;36m8\u001b[0m\u001b[0;34m,\u001b[0m \u001b[0;36m8\u001b[0m\u001b[0;34m)\u001b[0m\u001b[0;34m,\u001b[0m \u001b[0mcrop_kernel\u001b[0m \u001b[0;34m=\u001b[0m \u001b[0;34m(\u001b[0m\u001b[0;36m100\u001b[0m\u001b[0;34m,\u001b[0m \u001b[0;36m100\u001b[0m\u001b[0;34m)\u001b[0m\u001b[0;34m)\u001b[0m\u001b[0;34m:\u001b[0m\u001b[0;34m\u001b[0m\u001b[0;34m\u001b[0m\u001b[0m\n\u001b[0;32m---> 33\u001b[0;31m     \u001b[0mimg\u001b[0m \u001b[0;34m=\u001b[0m \u001b[0mimg_clahe\u001b[0m\u001b[0;34m(\u001b[0m\u001b[0mimg_crop\u001b[0m\u001b[0;34m(\u001b[0m\u001b[0mimg\u001b[0m\u001b[0;34m,\u001b[0m \u001b[0mcrop_kernel\u001b[0m\u001b[0;34m)\u001b[0m\u001b[0;34m,\u001b[0m \u001b[0mclip\u001b[0m\u001b[0;34m,\u001b[0m \u001b[0mtile\u001b[0m\u001b[0;34m)\u001b[0m\u001b[0;34m\u001b[0m\u001b[0;34m\u001b[0m\u001b[0m\n\u001b[0m\u001b[1;32m     34\u001b[0m     \u001b[0;32mif\u001b[0m \u001b[0mdo_downsample\u001b[0m\u001b[0;34m:\u001b[0m\u001b[0;34m\u001b[0m\u001b[0;34m\u001b[0m\u001b[0m\n\u001b[1;32m     35\u001b[0m         \u001b[0mimg\u001b[0m \u001b[0;34m=\u001b[0m \u001b[0mimg_downsample\u001b[0m\u001b[0;34m(\u001b[0m\u001b[0mimg\u001b[0m\u001b[0;34m,\u001b[0m \u001b[0mdown_method\u001b[0m\u001b[0;34m,\u001b[0m \u001b[0mdown_size\u001b[0m\u001b[0;34m)\u001b[0m\u001b[0;34m\u001b[0m\u001b[0;34m\u001b[0m\u001b[0m\n",
            "\u001b[0;32m<ipython-input-378-9209f95c8658>\u001b[0m in \u001b[0;36mimg_clahe\u001b[0;34m(img, clip, tile)\u001b[0m\n\u001b[1;32m     21\u001b[0m \u001b[0;32mdef\u001b[0m \u001b[0mimg_clahe\u001b[0m\u001b[0;34m(\u001b[0m\u001b[0mimg\u001b[0m\u001b[0;34m,\u001b[0m \u001b[0mclip\u001b[0m\u001b[0;34m,\u001b[0m \u001b[0mtile\u001b[0m\u001b[0;34m)\u001b[0m\u001b[0;34m:\u001b[0m\u001b[0;34m\u001b[0m\u001b[0;34m\u001b[0m\u001b[0m\n\u001b[1;32m     22\u001b[0m     \u001b[0mclahe_create\u001b[0m \u001b[0;34m=\u001b[0m \u001b[0mcv2\u001b[0m\u001b[0;34m.\u001b[0m\u001b[0mcreateCLAHE\u001b[0m\u001b[0;34m(\u001b[0m\u001b[0mclipLimit\u001b[0m\u001b[0;34m=\u001b[0m\u001b[0mclip\u001b[0m\u001b[0;34m,\u001b[0m \u001b[0mtileGridSize\u001b[0m\u001b[0;34m=\u001b[0m\u001b[0mtile\u001b[0m\u001b[0;34m)\u001b[0m\u001b[0;34m\u001b[0m\u001b[0;34m\u001b[0m\u001b[0m\n\u001b[0;32m---> 23\u001b[0;31m     \u001b[0mclahe_img\u001b[0m \u001b[0;34m=\u001b[0m \u001b[0mclahe_create\u001b[0m\u001b[0;34m.\u001b[0m\u001b[0mapply\u001b[0m\u001b[0;34m(\u001b[0m\u001b[0mimg\u001b[0m\u001b[0;34m)\u001b[0m\u001b[0;34m\u001b[0m\u001b[0;34m\u001b[0m\u001b[0m\n\u001b[0m\u001b[1;32m     24\u001b[0m \u001b[0;34m\u001b[0m\u001b[0m\n\u001b[1;32m     25\u001b[0m     \u001b[0;32mreturn\u001b[0m \u001b[0mclahe_img\u001b[0m\u001b[0;34m\u001b[0m\u001b[0;34m\u001b[0m\u001b[0m\n",
            "\u001b[0;31mKeyboardInterrupt\u001b[0m: "
          ]
        }
      ]
    },
    {
      "cell_type": "code",
      "source": [
        "!rm -rf processed"
      ],
      "metadata": {
        "id": "8KJ-rWJj91e_"
      },
      "execution_count": 385,
      "outputs": []
    }
  ]
}