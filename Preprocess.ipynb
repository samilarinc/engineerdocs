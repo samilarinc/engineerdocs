{
  "nbformat": 4,
  "nbformat_minor": 0,
  "metadata": {
    "colab": {
      "provenance": [],
      "authorship_tag": "ABX9TyN6FeUvweSd5eD95CzgSpJS",
      "include_colab_link": true
    },
    "kernelspec": {
      "name": "python3",
      "display_name": "Python 3"
    },
    "language_info": {
      "name": "python"
    }
  },
  "cells": [
    {
      "cell_type": "markdown",
      "metadata": {
        "id": "view-in-github",
        "colab_type": "text"
      },
      "source": [
        "<a href=\"https://colab.research.google.com/github/samilarinc/engineerdocs/blob/main/Preprocess.ipynb\" target=\"_parent\"><img src=\"https://colab.research.google.com/assets/colab-badge.svg\" alt=\"Open In Colab\"/></a>"
      ]
    },
    {
      "cell_type": "markdown",
      "source": [
        "# Download Data"
      ],
      "metadata": {
        "id": "uwbEiG1x7Nvc"
      }
    },
    {
      "cell_type": "code",
      "source": [
        "!gcloud auth login\n",
        "!gcloud auth application-default login"
      ],
      "metadata": {
        "id": "9BqP7inGNowX"
      },
      "execution_count": null,
      "outputs": []
    },
    {
      "cell_type": "code",
      "execution_count": null,
      "metadata": {
        "id": "5C7_uRvdLu2r"
      },
      "outputs": [],
      "source": [
        "!gsutil -m -q cp -r gs://engineerdocs/sakso ."
      ]
    },
    {
      "cell_type": "markdown",
      "source": [
        "# Import Headers"
      ],
      "metadata": {
        "id": "Hq_3D1697R9v"
      }
    },
    {
      "cell_type": "code",
      "source": [
        "import cv2\n",
        "import matplotlib.pyplot as plt\n",
        "import numpy as np\n",
        "import os\n",
        "import pydicom as dicom\n",
        "from tqdm import tqdm\n",
        "\n",
        "from skimage import filters\n",
        "from time import perf_counter"
      ],
      "metadata": {
        "id": "nLHOeGBQMv92"
      },
      "execution_count": 372,
      "outputs": []
    },
    {
      "cell_type": "markdown",
      "source": [
        "# Preprocess"
      ],
      "metadata": {
        "id": "Axr35bah7V8b"
      }
    },
    {
      "cell_type": "code",
      "source": [
        "# Apply Otsu's thresholding to segment the breast region\n",
        "\n",
        "def img_crop(gray_img, kernel_size = (100, 100)):\n",
        "    img = 4095 - gray_img\n",
        "    thresh = filters.threshold_otsu(img)\n",
        "    binary = img > thresh\n",
        "\n",
        "    kernel = cv2.getStructuringElement(cv2.MORPH_RECT, kernel_size)\n",
        "    binary = cv2.morphologyEx(binary.astype(np.uint8), cv2.MORPH_GRADIENT, kernel)\n",
        "    contours, _ = cv2.findContours(binary, cv2.RETR_EXTERNAL, cv2.CHAIN_APPROX_SIMPLE)\n",
        "\n",
        "    breast_contour = max(contours, key=cv2.contourArea)\n",
        "    x, y, w, h = cv2.boundingRect(breast_contour)\n",
        "    cropped_img = img[y:y+h, x:x+w]\n",
        "\n",
        "    cropped_img = cv2.bitwise_not(cropped_img)\n",
        "    return cropped_img\n",
        "\n",
        "def img_normalize(img):\n",
        "    img = (img - img.min()) / (img.max() - img.min())\n",
        "    return img\n",
        "\n",
        "def img_clahe(img, clip=2.0, tile=(8, 8)):\n",
        "    clahe_create = cv2.createCLAHE(clipLimit=clip, tileGridSize=tile)\n",
        "    clahe_img = clahe_create.apply(img)\n",
        "\n",
        "    return clahe_img\n",
        "\n",
        "def preprocess(img):\n",
        "    return img_clahe(img_crop(img))\n",
        "    # return img_normalize(img_clahe(img_crop(img)))"
      ],
      "metadata": {
        "id": "fEetWpaWXASa"
      },
      "execution_count": 265,
      "outputs": []
    },
    {
      "cell_type": "code",
      "source": [
        "folder_names = os.listdir('sakso')\n",
        "files = ('LCC', 'LMLO', 'RCC', 'RMLO')\n",
        "# os.mkdir('processed')\n",
        "for i in tqdm(folder_names):\n",
        "    path = 'sakso/' + i\n",
        "    for j in files:\n",
        "        img_path = path + '/' + j + '.dcm'\n",
        "        ds = dicom.dcmread(img_path)\n",
        "        img = ds.pixel_array\n",
        "        img = preprocess(img)\n",
        "        np.save(f'processed/{i}_{j}.npy', img)"
      ],
      "metadata": {
        "id": "2TMx_lAX3JKG"
      },
      "execution_count": null,
      "outputs": []
    },
    {
      "cell_type": "code",
      "source": [
        "# downsampled_img = cv2.resize(img, (1024, 1024), interpolation = cv2.INTER_LANCZOS4)"
      ],
      "metadata": {
        "id": "Pon2gJlxuZmX"
      },
      "execution_count": null,
      "outputs": []
    },
    {
      "cell_type": "code",
      "source": [],
      "metadata": {
        "id": "FCX7JnhL7PiG"
      },
      "execution_count": null,
      "outputs": []
    }
  ]
}