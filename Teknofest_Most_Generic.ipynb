{
  "nbformat": 4,
  "nbformat_minor": 0,
  "metadata": {
    "colab": {
      "provenance": [],
      "include_colab_link": true
    },
    "kernelspec": {
      "name": "python3",
      "display_name": "Python 3"
    },
    "language_info": {
      "name": "python"
    },
    "gpuClass": "standard",
    "accelerator": "GPU"
  },
  "cells": [
    {
      "cell_type": "markdown",
      "metadata": {
        "id": "view-in-github",
        "colab_type": "text"
      },
      "source": [
        "<a href=\"https://colab.research.google.com/github/samilarinc/engineerdocs/blob/main/Teknofest_Most_Generic.ipynb\" target=\"_parent\"><img src=\"https://colab.research.google.com/assets/colab-badge.svg\" alt=\"Open In Colab\"/></a>"
      ]
    },
    {
      "cell_type": "code",
      "execution_count": null,
      "metadata": {
        "colab": {
          "base_uri": "https://localhost:8080/",
          "height": 416
        },
        "id": "46Cy8Ocfncb9",
        "outputId": "b03dc60e-3a83-447e-f2e7-d63da98150a4"
      },
      "outputs": [
        {
          "name": "stdout",
          "output_type": "stream",
          "text": [
            "0 for birads, 1 for kompo: 1\n",
            "Enter batch size: 16\n",
            "Use VinDr (n/y)n\n",
            "Use rsna0 (n/y)n\n"
          ]
        },
        {
          "output_type": "error",
          "ename": "KeyboardInterrupt",
          "evalue": "ignored",
          "traceback": [
            "\u001b[0;31m---------------------------------------------------------------------------\u001b[0m",
            "\u001b[0;31mKeyboardInterrupt\u001b[0m                         Traceback (most recent call last)",
            "\u001b[0;32m<ipython-input-1-ceeacac713eb>\u001b[0m in \u001b[0;36m<cell line: 12>\u001b[0;34m()\u001b[0m\n\u001b[1;32m     10\u001b[0m   \u001b[0mdata_list\u001b[0m\u001b[0;34m.\u001b[0m\u001b[0mappend\u001b[0m\u001b[0;34m(\u001b[0m\u001b[0;34m\"rsna0\"\u001b[0m\u001b[0;34m)\u001b[0m\u001b[0;34m\u001b[0m\u001b[0;34m\u001b[0m\u001b[0m\n\u001b[1;32m     11\u001b[0m \u001b[0;34m\u001b[0m\u001b[0m\n\u001b[0;32m---> 12\u001b[0;31m \u001b[0mmodel_name\u001b[0m \u001b[0;34m=\u001b[0m \u001b[0minput\u001b[0m\u001b[0;34m(\u001b[0m\u001b[0;34m\"Enter model name (timm or torch): \"\u001b[0m\u001b[0;34m)\u001b[0m \u001b[0;31m#vit_base_patch16_224\u001b[0m\u001b[0;34m\u001b[0m\u001b[0;34m\u001b[0m\u001b[0m\n\u001b[0m",
            "\u001b[0;32m/usr/local/lib/python3.9/dist-packages/ipykernel/kernelbase.py\u001b[0m in \u001b[0;36mraw_input\u001b[0;34m(self, prompt)\u001b[0m\n\u001b[1;32m    849\u001b[0m                 \u001b[0;34m\"raw_input was called, but this frontend does not support input requests.\"\u001b[0m\u001b[0;34m\u001b[0m\u001b[0;34m\u001b[0m\u001b[0m\n\u001b[1;32m    850\u001b[0m             )\n\u001b[0;32m--> 851\u001b[0;31m         return self._input_request(str(prompt),\n\u001b[0m\u001b[1;32m    852\u001b[0m             \u001b[0mself\u001b[0m\u001b[0;34m.\u001b[0m\u001b[0m_parent_ident\u001b[0m\u001b[0;34m,\u001b[0m\u001b[0;34m\u001b[0m\u001b[0;34m\u001b[0m\u001b[0m\n\u001b[1;32m    853\u001b[0m             \u001b[0mself\u001b[0m\u001b[0;34m.\u001b[0m\u001b[0m_parent_header\u001b[0m\u001b[0;34m,\u001b[0m\u001b[0;34m\u001b[0m\u001b[0;34m\u001b[0m\u001b[0m\n",
            "\u001b[0;32m/usr/local/lib/python3.9/dist-packages/ipykernel/kernelbase.py\u001b[0m in \u001b[0;36m_input_request\u001b[0;34m(self, prompt, ident, parent, password)\u001b[0m\n\u001b[1;32m    893\u001b[0m             \u001b[0;32mexcept\u001b[0m \u001b[0mKeyboardInterrupt\u001b[0m\u001b[0;34m:\u001b[0m\u001b[0;34m\u001b[0m\u001b[0;34m\u001b[0m\u001b[0m\n\u001b[1;32m    894\u001b[0m                 \u001b[0;31m# re-raise KeyboardInterrupt, to truncate traceback\u001b[0m\u001b[0;34m\u001b[0m\u001b[0;34m\u001b[0m\u001b[0m\n\u001b[0;32m--> 895\u001b[0;31m                 \u001b[0;32mraise\u001b[0m \u001b[0mKeyboardInterrupt\u001b[0m\u001b[0;34m(\u001b[0m\u001b[0;34m\"Interrupted by user\"\u001b[0m\u001b[0;34m)\u001b[0m \u001b[0;32mfrom\u001b[0m \u001b[0;32mNone\u001b[0m\u001b[0;34m\u001b[0m\u001b[0;34m\u001b[0m\u001b[0m\n\u001b[0m\u001b[1;32m    896\u001b[0m             \u001b[0;32mexcept\u001b[0m \u001b[0mException\u001b[0m \u001b[0;32mas\u001b[0m \u001b[0me\u001b[0m\u001b[0;34m:\u001b[0m\u001b[0;34m\u001b[0m\u001b[0;34m\u001b[0m\u001b[0m\n\u001b[1;32m    897\u001b[0m                 \u001b[0mself\u001b[0m\u001b[0;34m.\u001b[0m\u001b[0mlog\u001b[0m\u001b[0;34m.\u001b[0m\u001b[0mwarning\u001b[0m\u001b[0;34m(\u001b[0m\u001b[0;34m\"Invalid Message:\"\u001b[0m\u001b[0;34m,\u001b[0m \u001b[0mexc_info\u001b[0m\u001b[0;34m=\u001b[0m\u001b[0;32mTrue\u001b[0m\u001b[0;34m)\u001b[0m\u001b[0;34m\u001b[0m\u001b[0;34m\u001b[0m\u001b[0m\n",
            "\u001b[0;31mKeyboardInterrupt\u001b[0m: Interrupted by user"
          ]
        }
      ],
      "source": [
        "task = int(input('0 for birads, 1 for kompo: '))\n",
        "batch_size = int(input('Enter batch size: '))\n",
        "target_names = [['BI-RADS0', 'BI-RADS1-2', 'BI-RADS4-5'], ['A', 'B', 'C', 'D']][task]\n",
        "\n",
        "data_list = [\"teknofest\"]\n",
        "if input(\"Use VinDr (n/y)\") == \"y\":\n",
        "  data_list.append(\"vindr\")\n",
        "\n",
        "if input(\"Use rsna0 (n/y)\") == \"y\":\n",
        "  data_list.append(\"rsna0\")\n",
        "\n",
        "model_name = input(\"Enter model name (timm or torch): \") #vit_base_patch16_224"
      ]
    },
    {
      "cell_type": "markdown",
      "source": [
        "# DATA LOAD"
      ],
      "metadata": {
        "id": "ZEtZUeYdngJZ"
      }
    },
    {
      "cell_type": "code",
      "source": [
        "import os\n",
        "first_run = 'csv_folder.zip' not in os.listdir()"
      ],
      "metadata": {
        "id": "HZIcC8v8nvra"
      },
      "execution_count": null,
      "outputs": []
    },
    {
      "cell_type": "code",
      "source": [
        "if first_run:\n",
        "    from google.colab import drive\n",
        "    drive.mount(\"drive\")"
      ],
      "metadata": {
        "colab": {
          "base_uri": "https://localhost:8080/"
        },
        "id": "5aik8JzZ5EKI",
        "outputId": "0264a3a6-a192-4692-9195-664620e2354d"
      },
      "execution_count": null,
      "outputs": [
        {
          "output_type": "stream",
          "name": "stdout",
          "text": [
            "Mounted at drive\n"
          ]
        }
      ]
    },
    {
      "cell_type": "code",
      "source": [
        "if first_run:\n",
        "    os.system(\"pip install -q timm\")"
      ],
      "metadata": {
        "id": "t5l1PXBUo8EW"
      },
      "execution_count": null,
      "outputs": []
    },
    {
      "cell_type": "code",
      "source": [
        "if first_run: \n",
        "    os.system('cp drive/MyDrive/csv_folder.zip .')\n",
        "    os.system('unzip csv_folder.zip -d .')"
      ],
      "metadata": {
        "id": "blXN_Khz0aQu"
      },
      "execution_count": null,
      "outputs": []
    },
    {
      "cell_type": "code",
      "source": [
        "\"\"\"    TEKNOFEST    \"\"\"\n",
        "if first_run:\n",
        "    os.system('cp /content/drive/MyDrive/processed_teknofest.zip .')\n",
        "    os.system('unzip processed_teknofest.zip -d .')\n",
        "\n",
        "\"\"\"    RSNA_0    \"\"\"\n",
        "if first_run and (\"rsna0\" in data_list):\n",
        "    os.system('cp /content/drive/MyDrive/rsna_birads0_clahe.zip .')\n",
        "    os.system('unzip rsna_birads0_clahe.zip')\n",
        "    os.system('mv rsna_birads0_clahe processed_rsna0')\n",
        "    os.system('cp drive/MyDrive/rsna0_birads_fixed.csv .')\n",
        "\n",
        "\"\"\"     VINDR    \"\"\"\n",
        "if first_run and (\"vindr\" in data_list):\n",
        "    os.system('cp /content/drive/MyDrive/processed_vindr.zip .')\n",
        "    os.system('unzip processed_vindr.zip -d .')\n",
        "    os.system('rm processed_vindr/dbca9d28baa3207b3187c4d07dc81a80*')"
      ],
      "metadata": {
        "id": "8lHu52bDndiS"
      },
      "execution_count": null,
      "outputs": []
    },
    {
      "cell_type": "markdown",
      "source": [
        "# IMPORTS"
      ],
      "metadata": {
        "id": "E2WB9aWOnxZr"
      }
    },
    {
      "cell_type": "code",
      "source": [
        "import matplotlib.pyplot as plt\n",
        "%matplotlib inline\n",
        "import numpy as np\n",
        "import pandas as pd\n",
        "import os\n",
        "import gc\n",
        "import cv2\n",
        "import time\n",
        "\n",
        "from tqdm import tqdm\n",
        "from time import perf_counter\n",
        "from timm import create_model\n",
        "\n",
        "import torch as t\n",
        "from torch.utils.data import Dataset, DataLoader, random_split, ConcatDataset\n",
        "import torchvision as tv\n",
        "from torchvision import io\n",
        "import torchvision.transforms as T\n",
        "import torch.nn as nn\n",
        "import torch.nn.functional as F\n",
        "from torch import optim\n",
        "from torchsummary import summary\n",
        "\n",
        "import pandas as pd\n",
        "from PIL import Image\n",
        "import warnings\n",
        "from sklearn.metrics import classification_report, accuracy_score\n",
        "from sklearn.model_selection import train_test_split\n",
        "\n",
        "warnings.filterwarnings(\"ignore\", category=UserWarning)\n",
        "\n",
        "device = 'cuda' if t.cuda.is_available() else 'cpu'\n",
        "# !nvidia-smi"
      ],
      "metadata": {
        "id": "Ew0Iqh4Yn8jH"
      },
      "execution_count": null,
      "outputs": []
    },
    {
      "cell_type": "markdown",
      "source": [
        "# Define Dataset"
      ],
      "metadata": {
        "id": "q6E9uT_Vn-z1"
      }
    },
    {
      "cell_type": "code",
      "source": [
        "class MemeDataset(Dataset):\n",
        "    def __init__(self, image_root_dir, transform, csv_file, model_type = 'MEME KOMPOZİSYONU'):\n",
        "        self.data = pd.read_csv(csv_file, index_col = 0)\n",
        "        y = pd.get_dummies(self.data[model_type], prefix = '')\n",
        "        if model_type != 'MEME KOMPOZİSYONU':\n",
        "            if image_root_dir.split('_')[1] == 'rsna':\n",
        "                self.data['one_hot'] = list(np.hstack((np.array(y), np.zeros((y.shape[0], 1)))))\n",
        "\n",
        "            if image_root_dir.split('_')[1] == 'rsna0':\n",
        "                self.data['one_hot'] = list(np.hstack((np.array(y), np.zeros((y.shape[0], 2)))))\n",
        "\n",
        "            elif image_root_dir.split('_')[1] == 'vindr':\n",
        "                self.data['one_hot'] = list(np.hstack((np.zeros((y.shape[0], 1)), np.array(y))))\n",
        "\n",
        "            else:\n",
        "                self.data['one_hot'] = list(np.array(y))\n",
        "        else:\n",
        "            self.data['one_hot'] = list(np.array(y))\n",
        "        \n",
        "        self.image_root_dir = image_root_dir\n",
        "        self.transform = transform\n",
        "\n",
        "    def __len__(self):\n",
        "        return len(self.data)\n",
        "\n",
        "    def __getitem__(self, idx):\n",
        "        if t.is_tensor(idx):\n",
        "            idx = idx.tolist()\n",
        "\n",
        "        img_path = os.path.join(self.image_root_dir,\n",
        "                                str(self.data.iloc[idx, 0]))\n",
        "\n",
        "        LCC =  io.read_image(img_path + '_LCC.png')\n",
        "        LMLO = io.read_image(img_path + '_LMLO.png')\n",
        "        RCC =  io.read_image(img_path + '_RCC.png')\n",
        "        RMLO = io.read_image(img_path + '_RMLO.png')\n",
        "\n",
        "        if LCC.shape[0] != 3:\n",
        "          LCC = t.cat([LCC, LCC, LCC], dim=0)\n",
        "          RCC = t.cat([RCC, RCC, RCC], dim=0)\n",
        "          LMLO = t.cat([LMLO, LMLO, LMLO], dim=0)\n",
        "          RMLO = t.cat([RMLO, RMLO, RMLO], dim=0)\n",
        "\n",
        "        if self.transform:\n",
        "            LCC = self.transform(LCC)\n",
        "            RCC = self.transform(RCC)\n",
        "            LMLO = self.transform(LMLO)\n",
        "            RMLO = self.transform(RMLO)\n",
        "\n",
        "        label = self.data.iloc[idx, 1]\n",
        "\n",
        "        sample = {'LCC': LCC, 'LMLO': LMLO, 'RCC': RCC, 'RMLO': RMLO,\n",
        "                  'label': label}\n",
        "                  \n",
        "        return sample\n",
        "\n",
        "class CustomDataset(Dataset):\n",
        "    def __init__(self, df, transform):\n",
        "        self.df = df\n",
        "        self.transform = transform\n",
        "\n",
        "    def __len__(self):\n",
        "        return len(self.df)\n",
        "\n",
        "    def __getitem__(self, idx):\n",
        "        if t.is_tensor(idx):\n",
        "            idx = idx.tolist()\n",
        "\n",
        "        image_path = self.df.iloc[idx, -1]\n",
        "        LCC =  io.read_image(image_path + '_LCC.png')\n",
        "        LMLO = io.read_image(image_path + '_LMLO.png')\n",
        "        RCC =  io.read_image(image_path + '_RCC.png')\n",
        "        RMLO = io.read_image(image_path + '_RMLO.png')\n",
        "\n",
        "        if LCC.shape[0] != 3:\n",
        "          LCC = t.cat([LCC, LCC, LCC], dim=0)\n",
        "          RCC = t.cat([RCC, RCC, RCC], dim=0)\n",
        "          LMLO = t.cat([LMLO, LMLO, LMLO], dim=0)\n",
        "          RMLO = t.cat([RMLO, RMLO, RMLO], dim=0)\n",
        "\n",
        "        if self.transform:\n",
        "            LCC = self.transform(LCC)\n",
        "            RCC = self.transform(RCC)\n",
        "            LMLO = self.transform(LMLO)\n",
        "            RMLO = self.transform(RMLO)\n",
        "\n",
        "        label = self.df.iloc[idx, 2]\n",
        "        sample = {'LCC': LCC, 'LMLO': LMLO, 'RCC': RCC, 'RMLO': RMLO, 'label': label}\n",
        "        return sample"
      ],
      "metadata": {
        "id": "jcXSnDCSoBtE"
      },
      "execution_count": null,
      "outputs": []
    },
    {
      "cell_type": "markdown",
      "source": [
        "# Focal Loss"
      ],
      "metadata": {
        "id": "vI11_7ofoI7v"
      }
    },
    {
      "cell_type": "code",
      "source": [
        "class FocalLoss(nn.modules.loss._WeightedLoss):\n",
        "    def __init__(self, weight=None, gamma=2, reduction='mean'):\n",
        "        super(FocalLoss, self).__init__(weight,reduction=reduction)\n",
        "        self.gamma = gamma\n",
        "        self.weight = weight #weight parameter will act as the alpha parameter to balance class weights\n",
        "\n",
        "    def forward(self, input, target):\n",
        "        ce_loss = F.cross_entropy(input, target, reduction=self.reduction, weight=self.weight)\n",
        "        pt = t.exp(-ce_loss)\n",
        "        focal_loss = ((1 - pt) ** self.gamma * ce_loss).mean()\n",
        "        return focal_loss"
      ],
      "metadata": {
        "id": "cQlDZgOToFdy"
      },
      "execution_count": null,
      "outputs": []
    },
    {
      "cell_type": "markdown",
      "source": [
        "# 4HeadedBreast-Net Mimarisi"
      ],
      "metadata": {
        "id": "t3H1mlPCoWAA"
      }
    },
    {
      "cell_type": "code",
      "source": [
        "class SelfAttentionFusion(nn.Module):\n",
        "    def __init__(self, input_dim, hidden_dim, num_heads):\n",
        "        super().__init__()\n",
        "        self.multihead_attn = nn.MultiheadAttention(input_dim, num_heads)\n",
        "        self.linear = nn.Linear(input_dim * 4, hidden_dim)\n",
        "        self.relu = nn.ReLU()\n",
        "\n",
        "    def forward(self, LCC, LMLO, RCC, RMLO):\n",
        "        features = t.stack((LCC, LMLO, RCC, RMLO), dim=0)\n",
        "        attn_output, _ = self.multihead_attn(features, features, features)\n",
        "        fused = attn_output.permute(1, 0, 2).reshape(attn_output.size(1), -1)\n",
        "        fused = self.linear(fused)\n",
        "        return self.relu(fused)\n",
        "\n",
        "class DortBasliMemeNet(nn.Module):\n",
        "    def __init__(self, f_extractor:str, fc:nn.Sequential):\n",
        "        super().__init__()\n",
        "        # try:\n",
        "        #   self.LMLO_extractor = create_model(f_extractor, pretrained=True, num_classes=0)\n",
        "        #   self.RMLO_extractor = create_model(f_extractor, pretrained=True, num_classes=0)\n",
        "        #   self.RCC_extractor = create_model(f_extractor, pretrained=True, num_classes=0)\n",
        "        #   self.LCC_extractor = create_model(f_extractor, pretrained=True, num_classes=0)\n",
        "        \n",
        "        # except:\n",
        "        #   self.LMLO_extractor = getattr(tv.models, f_extractor)(pretrained = True)\n",
        "        #   self.RMLO_extractor = getattr(tv.models, f_extractor)(pretrained = True)\n",
        "        #   self.RCC_extractor =  getattr(tv.models, f_extractor)(pretrained = True)\n",
        "        #   self.LCC_extractor =  getattr(tv.models, f_extractor)(pretrained = True)\n",
        "\n",
        "        #   try:\n",
        "        #     self.LCC_extractor = nn.Sequential(*tuple(self.LCC_extractor.features.children())[:])\n",
        "        #     self.RCC_extractor = nn.Sequential(*tuple(self.RCC_extractor.features.children())[:])\n",
        "        #     self.RMLO_extractor = nn.Sequential(*tuple(self.RMLO_extractor.features.children())[:])\n",
        "        #     self.LMLO_extractor = nn.Sequential(*tuple(self.LMLO_extractor.features.children())[:])\n",
        "        #   except:\n",
        "        #     self.LCC_extractor = nn.Sequential(*tuple(self.LCC_extractor.children())[:-1])\n",
        "        #     self.RCC_extractor = nn.Sequential(*tuple(self.RCC_extractor.children())[:-1])\n",
        "        #     self.RMLO_extractor = nn.Sequential(*tuple(self.RMLO_extractor.children())[:-1])\n",
        "        #     self.LMLO_extractor = nn.Sequential(*tuple(self.LMLO_extractor.children())[:-1])\n",
        "        self.RCC_extractor = nn.Sequential(*tuple(getattr(tv.models, f_extractor)(pretrained = True).children()))[:-1]\n",
        "        self.LCC_extractor = nn.Sequential(*tuple(getattr(tv.models, f_extractor)(pretrained = True).children()))[:-1]\n",
        "        self.LMLO_extractor = nn.Sequential(*tuple(getattr(tv.models, f_extractor)(pretrained = True).children()))[:-1]\n",
        "        self.RMLO_extractor = nn.Sequential(*tuple(getattr(tv.models, f_extractor)(pretrained = True).children()))[:-1]\n",
        "        \n",
        "        self.fuse_cnn = nn.Sequential(\n",
        "                        nn.LazyConv2d(128, 1),\n",
        "                        nn.ReLU(),\n",
        "                        nn.Flatten()\n",
        "                        )\n",
        "\n",
        "        for param in self.RCC_extractor.parameters():\n",
        "            param.requires_grad = False\n",
        "        for param in self.LCC_extractor.parameters():\n",
        "            param.requires_grad = False\n",
        "        for param in self.RMLO_extractor.parameters():\n",
        "            param.requires_grad = False\n",
        "        for param in self.LMLO_extractor.parameters():\n",
        "            param.requires_grad = False\n",
        "\n",
        "        self.fc = fc\n",
        "\n",
        "    def forward(self, X):\n",
        "        LCC, LMLO, RCC, RMLO = X['LCC'].to(device), X['LMLO'].to(device), X['RCC'].to(device), X['RMLO'].to(device)\n",
        "        LCC = self.LCC_extractor(LCC)\n",
        "        LMLO = self.LMLO_extractor(LMLO)\n",
        "        RCC = self.RCC_extractor(RCC)\n",
        "        RMLO = self.RMLO_extractor(RMLO)\n",
        "        \n",
        "        upper = t.cat((LCC,RCC), dim = 3)\n",
        "        lower = t.cat((LMLO,RMLO), dim = 3)\n",
        "        fused = t.cat((upper,lower), dim = 2)\n",
        "        fused = self.fuse_cnn(fused)\n",
        "\n",
        "        return self.fc(fused)"
      ],
      "metadata": {
        "id": "-ElkQiwQoaUu"
      },
      "execution_count": null,
      "outputs": []
    },
    {
      "cell_type": "markdown",
      "source": [
        "# Dataset Initialization"
      ],
      "metadata": {
        "id": "8xXNR9HPo-YC"
      }
    },
    {
      "cell_type": "code",
      "source": [
        "transform = T.Compose([\n",
        "    T.RandomRotation((-30, 30)),\n",
        "    T.GaussianBlur((5, 9)),\n",
        "    T.RandomErasing(p = 0.5, scale = (0.01, 0.1), ratio = (0.5, 2)),\n",
        "    T.ColorJitter(brightness=0.4, contrast=0.4),\n",
        "    T.ConvertImageDtype(t.float),\n",
        "])\n",
        "transform2 = T.Compose([\n",
        "    T.ConvertImageDtype(t.float),\n",
        "])\n",
        "tasks = ('birads', 'kompozisyon')\n",
        "types = ('BIRADS KATEGORİSİ', 'MEME KOMPOZİSYONU')\n",
        "\n",
        "train_sets, val_sets = [], []\n",
        "\n",
        "for i in data_list:\n",
        "    dataset = MemeDataset(image_root_dir=f'processed_{i}', transform=transform, csv_file = f'{i}_{tasks[task]}_fixed.csv', model_type = types[task])\n",
        "\n",
        "    # convert data to DataFrame\n",
        "    df = dataset.data\n",
        "    df[\"image_path\"] = df[\"HASTANO\"].apply(lambda x: os.path.join(dataset.image_root_dir, str(x)))\n",
        "\n",
        "    # split data in a stratified way\n",
        "    if i == 'teknofest':\n",
        "        train_df, test_val_df = train_test_split(df, test_size=0.3, random_state=42, stratify=df[types[task]])\n",
        "        val_df, test_df = train_test_split(test_val_df, test_size=0.5, random_state=42, stratify=test_val_df[types[task]])\n",
        "        test_set = CustomDataset(test_df, transform2)\n",
        "    \n",
        "    else:\n",
        "      if i == \"vindr\":\n",
        "          df = df[df[\"BIRADS KATEGORİSİ\"] != \"BI-RADS1-2\"]\n",
        "      train_df, val_df = train_test_split(df, test_size=0.15, random_state=42, stratify=df[types[task]])\n",
        "        \n",
        "    \n",
        "    train_sets.append(CustomDataset(train_df, transform))\n",
        "    val_sets.append(CustomDataset(val_df, transform2))\n",
        "\n",
        "train_set = ConcatDataset(train_sets)\n",
        "val_set = ConcatDataset(val_sets)\n",
        "\n",
        "train_loader = DataLoader(train_set, batch_size, True)\n",
        "val_loader = DataLoader(val_set, batch_size, False)\n",
        "test_loader = DataLoader(test_set, batch_size, False)"
      ],
      "metadata": {
        "id": "Lur3-ZBzpGzQ"
      },
      "execution_count": null,
      "outputs": []
    },
    {
      "cell_type": "markdown",
      "source": [
        "# Create Model"
      ],
      "metadata": {
        "id": "gccuUpXcpZu6"
      }
    },
    {
      "cell_type": "code",
      "source": [
        "num_class = train_sets[0].df['one_hot'].iloc[0].shape[0]\n",
        "counts = np.zeros(num_class)\n",
        "for x in train_sets:\n",
        "    bi_mat = x.df[\"one_hot\"].to_numpy()\n",
        "    for i in bi_mat:\n",
        "        ind = np.argmax(i)\n",
        "        counts[ind] += 1\n",
        "counts"
      ],
      "metadata": {
        "colab": {
          "base_uri": "https://localhost:8080/"
        },
        "id": "CrMVACfxpcty",
        "outputId": "1e2b5b76-d2c1-46e1-e435-7091e21a569f"
      },
      "execution_count": null,
      "outputs": [
        {
          "output_type": "execute_result",
          "data": {
            "text/plain": [
              "array([1527., 3101., 2886.])"
            ]
          },
          "metadata": {},
          "execution_count": 12
        }
      ]
    },
    {
      "cell_type": "code",
      "source": [
        "a = np.array(counts)\n",
        "b = np.sum(a) / (num_class * a)\n",
        "class_weights = t.tensor(b, dtype=t.float)\n",
        "class_weights"
      ],
      "metadata": {
        "colab": {
          "base_uri": "https://localhost:8080/"
        },
        "id": "XTQ1iofzpfFZ",
        "outputId": "d5572ee8-b15c-4e79-c4c3-168df7e66192"
      },
      "execution_count": null,
      "outputs": [
        {
          "output_type": "execute_result",
          "data": {
            "text/plain": [
              "tensor([1.6403, 0.8077, 0.8679])"
            ]
          },
          "metadata": {},
          "execution_count": 13
        }
      ]
    },
    {
      "cell_type": "code",
      "source": [
        "fc_birads = nn.Sequential(\n",
        "    nn.Flatten(),\n",
        "    nn.LazyLinear(512),\n",
        "    nn.ReLU(),\n",
        "    nn.Dropout(0.2),\n",
        "    nn.BatchNorm1d(512),\n",
        "    nn.Linear(512, 256),\n",
        "    nn.BatchNorm1d(256),\n",
        "    nn.Dropout(0.2),\n",
        "    nn.ReLU(),\n",
        "    nn.Linear(256, 32),\n",
        "    nn.Dropout(0.2),\n",
        "    nn.BatchNorm1d(32),\n",
        "    nn.ReLU(),\n",
        "    nn.Linear(32, num_class),\n",
        "    nn.LogSoftmax(1)\n",
        ")\n",
        "\n",
        "model = DortBasliMemeNet(model_name, fc_birads).to(device)"
      ],
      "metadata": {
        "id": "ePFiq8C1pgvW"
      },
      "execution_count": null,
      "outputs": []
    },
    {
      "cell_type": "code",
      "source": [
        "tot_param = 0\n",
        "for params in model.parameters():\n",
        "  tot_param += params.numel()\n",
        "print(f\"The model has {tot_param:,} parameters.\")"
      ],
      "metadata": {
        "id": "I1QqAkrQQy68"
      },
      "execution_count": null,
      "outputs": []
    },
    {
      "cell_type": "markdown",
      "source": [
        "# Train and Validate"
      ],
      "metadata": {
        "id": "kdCZqAw_pklW"
      }
    },
    {
      "cell_type": "code",
      "source": [
        "# criterion = nn.CrossEntropyLoss(weight=class_weights).to(device)\n",
        "criterion = FocalLoss(weight=class_weights).to(device)\n",
        "optimizer = optim.Adam(model.parameters(), lr=1e-4)\n",
        "\n",
        "train_batch_size = len(train_loader) // batch_size + 1\n",
        "val_batch_size = len(val_loader) // batch_size + 1\n",
        "train_len = len(train_loader)\n",
        "# Train the model\n",
        "acc = 0\n",
        "\n",
        "if f\"{model_name}_{task}_{batch_size}_{data_list}\" in os.listdir(\"/content/drive/MyDrive/\"):\n",
        "  if input(\"Do you want to continue training the existing model further (n/y)\") == \"y\":\n",
        "    model_state_dict = t.load(f\"/content/drive/MyDrive/{model_name}_{task}_{batch_size}_{data_list}/model.pt\")\n",
        "    optimizer_state_dict = t.load(f\"/content/drive/MyDrive/{model_name}_{task}_{batch_size}_{data_list}/optim.pt\")\n",
        "    criterion_state_dict = t.load(f\"/content/drive/MyDrive/{model_name}_{task}_{batch_size}_{data_list}/criter.pt\")\n",
        "\n",
        "    model.load_state_dict(model_state_dict)\n",
        "    optimizer.load_state_dict(optimizer_state_dict)\n",
        "    criterion.load_state_dict(criterion_state_dict)\n",
        "\n",
        "else:\n",
        "  os.mkdir(f\"/content/drive/MyDrive/{model_name}_{task}_{batch_size}_{data_list}\")\n",
        "\n",
        "for epoch in range(50):\n",
        "    gc.collect()\n",
        "    # Forward pass\n",
        "    model.train()\n",
        "    train_loss = 0.0\n",
        "    train_acc = 0.0\n",
        "    train_correct = 0.0\n",
        "    if epoch == 5:\n",
        "        for param in model.RCC_extractor.parameters():\n",
        "            param.requires_grad = True\n",
        "        for param in model.LCC_extractor.parameters():\n",
        "            param.requires_grad = True\n",
        "        for param in model.RMLO_extractor.parameters():\n",
        "            param.requires_grad = True\n",
        "        for param in model.LMLO_extractor.parameters():\n",
        "            param.requires_grad = True\n",
        "    for sample in tqdm(train_loader):\n",
        "        label = sample['label'].to(device)\n",
        "        outputs = model(sample)\n",
        "        # print(outputs.shape, label.shape)\n",
        "        loss = criterion(outputs, label.float())\n",
        "        train_loss += loss.item()\n",
        "        \n",
        "        _, train_predict = t.max(outputs, dim=1)\n",
        "        train_correct += ( train_predict == t.max(label, axis = 1)[1] ).sum().item()\n",
        "\n",
        "        # Backward and optimize\n",
        "        optimizer.zero_grad()\n",
        "        loss.backward()\n",
        "        optimizer.step()\n",
        "    train_acc = train_correct / (train_len * batch_size)\n",
        "    model.eval()\n",
        "    val_loss = 0.0\n",
        "    val_pred_list = []\n",
        "    label_list = []\n",
        "    \n",
        "    with t.no_grad():\n",
        "        for sample in tqdm(val_loader):\n",
        "            label = sample['label'].to(device)\n",
        "            label_list.extend(t.max(label, dim = 1)[1].to('cpu').detach().numpy())\n",
        "            outputs = model(sample)\n",
        "            loss = criterion(outputs, label.float())\n",
        "            val_loss += loss.item()\n",
        "            _, val_predict = t.max(outputs, dim=1)\n",
        "            val_pred_list.extend(val_predict.to('cpu').detach().numpy())\n",
        "\n",
        "    print('Epoch [%d/50]\\n\\tTrain Loss: %.4f \\tValidation Loss: %.4f'%(epoch+1, train_loss/train_batch_size, val_loss/val_batch_size))\n",
        "    if ((epoch+1) % 1) == 0:\n",
        "        rep = classification_report(label_list, val_pred_list, target_names=target_names, output_dict = True)\n",
        "        print(classification_report(label_list, val_pred_list, target_names=target_names))\n",
        "        print(f\"Train Accuracy at epoch {epoch+1}: {round(train_acc*100, 2)}%\")\n",
        "    if rep['accuracy'] > acc:\n",
        "        acc = rep['accuracy']\n",
        "        t.save(model.state_dict(), f\"/content/drive/MyDrive/{model_name}_{task}_{batch_size}_{data_list}/model.pt\")\n",
        "        t.save(optimizer.state_dict(), f\"/content/drive/MyDrive/{model_name}_{task}_{batch_size}_{data_list}/optim.pt\")\n",
        "        t.save(criterion.state_dict(), f\"/content/drive/MyDrive/{model_name}_{task}_{batch_size}_{data_list}/criter.pt\")\n",
        "        # t.save(model, f\"/content/drive/MyDrive/{model_name}_{task}_{batch_size}_{data_list}/direct_model.pt\")"
      ],
      "metadata": {
        "colab": {
          "base_uri": "https://localhost:8080/"
        },
        "id": "S0lPwSlcpiaa",
        "outputId": "6f66cb4b-ce96-43d3-8f92-346a629c2c4d"
      },
      "execution_count": null,
      "outputs": [
        {
          "output_type": "stream",
          "name": "stderr",
          "text": [
            "100%|██████████| 235/235 [05:08<00:00,  1.31s/it]\n",
            "100%|██████████| 51/51 [00:14<00:00,  3.51it/s]\n"
          ]
        },
        {
          "output_type": "stream",
          "name": "stdout",
          "text": [
            "Epoch [1/50]\n",
            "\tTrain Loss: 15.6529 \tValidation Loss: 12.1897\n",
            "              precision    recall  f1-score   support\n",
            "\n",
            "    BI-RADS0       0.30      0.27      0.28       327\n",
            "  BI-RADS1-2       0.42      0.76      0.54       665\n",
            "  BI-RADS4-5       0.69      0.12      0.20       618\n",
            "\n",
            "    accuracy                           0.41      1610\n",
            "   macro avg       0.47      0.38      0.34      1610\n",
            "weighted avg       0.50      0.41      0.36      1610\n",
            "\n",
            "Train Accuracy at epoch 1: 41.9%\n"
          ]
        },
        {
          "output_type": "stream",
          "name": "stderr",
          "text": [
            "100%|██████████| 235/235 [05:05<00:00,  1.30s/it]\n",
            "100%|██████████| 51/51 [00:13<00:00,  3.72it/s]\n"
          ]
        },
        {
          "output_type": "stream",
          "name": "stdout",
          "text": [
            "Epoch [2/50]\n",
            "\tTrain Loss: 13.3820 \tValidation Loss: 11.3891\n",
            "              precision    recall  f1-score   support\n",
            "\n",
            "    BI-RADS0       0.28      0.49      0.35       327\n",
            "  BI-RADS1-2       0.59      0.27      0.37       665\n",
            "  BI-RADS4-5       0.53      0.62      0.57       618\n",
            "\n",
            "    accuracy                           0.45      1610\n",
            "   macro avg       0.46      0.46      0.43      1610\n",
            "weighted avg       0.50      0.45      0.45      1610\n",
            "\n",
            "Train Accuracy at epoch 2: 46.69%\n"
          ]
        },
        {
          "output_type": "stream",
          "name": "stderr",
          "text": [
            "100%|██████████| 235/235 [04:57<00:00,  1.27s/it]\n",
            "100%|██████████| 51/51 [00:13<00:00,  3.82it/s]\n"
          ]
        },
        {
          "output_type": "stream",
          "name": "stdout",
          "text": [
            "Epoch [3/50]\n",
            "\tTrain Loss: 12.9311 \tValidation Loss: 12.0340\n",
            "              precision    recall  f1-score   support\n",
            "\n",
            "    BI-RADS0       0.34      0.29      0.31       327\n",
            "  BI-RADS1-2       0.53      0.54      0.53       665\n",
            "  BI-RADS4-5       0.57      0.60      0.59       618\n",
            "\n",
            "    accuracy                           0.51      1610\n",
            "   macro avg       0.48      0.48      0.48      1610\n",
            "weighted avg       0.51      0.51      0.51      1610\n",
            "\n",
            "Train Accuracy at epoch 3: 48.6%\n"
          ]
        },
        {
          "output_type": "stream",
          "name": "stderr",
          "text": [
            "100%|██████████| 235/235 [05:01<00:00,  1.28s/it]\n",
            "100%|██████████| 51/51 [00:13<00:00,  3.78it/s]\n"
          ]
        },
        {
          "output_type": "stream",
          "name": "stdout",
          "text": [
            "Epoch [4/50]\n",
            "\tTrain Loss: 12.4313 \tValidation Loss: 13.4170\n",
            "              precision    recall  f1-score   support\n",
            "\n",
            "    BI-RADS0       0.32      0.28      0.30       327\n",
            "  BI-RADS1-2       0.57      0.49      0.53       665\n",
            "  BI-RADS4-5       0.56      0.67      0.61       618\n",
            "\n",
            "    accuracy                           0.52      1610\n",
            "   macro avg       0.48      0.48      0.48      1610\n",
            "weighted avg       0.51      0.52      0.51      1610\n",
            "\n",
            "Train Accuracy at epoch 4: 49.48%\n"
          ]
        },
        {
          "output_type": "stream",
          "name": "stderr",
          "text": [
            "100%|██████████| 235/235 [05:00<00:00,  1.28s/it]\n",
            "100%|██████████| 51/51 [00:13<00:00,  3.82it/s]\n"
          ]
        },
        {
          "output_type": "stream",
          "name": "stdout",
          "text": [
            "Epoch [5/50]\n",
            "\tTrain Loss: 11.9445 \tValidation Loss: 11.0981\n",
            "              precision    recall  f1-score   support\n",
            "\n",
            "    BI-RADS0       0.29      0.31      0.30       327\n",
            "  BI-RADS1-2       0.51      0.65      0.57       665\n",
            "  BI-RADS4-5       0.64      0.42      0.51       618\n",
            "\n",
            "    accuracy                           0.49      1610\n",
            "   macro avg       0.48      0.46      0.46      1610\n",
            "weighted avg       0.51      0.49      0.49      1610\n",
            "\n",
            "Train Accuracy at epoch 5: 50.45%\n"
          ]
        },
        {
          "output_type": "stream",
          "name": "stderr",
          "text": [
            "100%|██████████| 235/235 [05:13<00:00,  1.34s/it]\n",
            "100%|██████████| 51/51 [00:13<00:00,  3.75it/s]\n"
          ]
        },
        {
          "output_type": "stream",
          "name": "stdout",
          "text": [
            "Epoch [6/50]\n",
            "\tTrain Loss: 12.0612 \tValidation Loss: 10.8156\n",
            "              precision    recall  f1-score   support\n",
            "\n",
            "    BI-RADS0       0.28      0.43      0.33       327\n",
            "  BI-RADS1-2       0.59      0.52      0.55       665\n",
            "  BI-RADS4-5       0.64      0.54      0.58       618\n",
            "\n",
            "    accuracy                           0.51      1610\n",
            "   macro avg       0.50      0.49      0.49      1610\n",
            "weighted avg       0.54      0.51      0.52      1610\n",
            "\n",
            "Train Accuracy at epoch 6: 51.22%\n"
          ]
        },
        {
          "output_type": "stream",
          "name": "stderr",
          "text": [
            "100%|██████████| 235/235 [05:14<00:00,  1.34s/it]\n",
            "100%|██████████| 51/51 [00:14<00:00,  3.61it/s]\n"
          ]
        },
        {
          "output_type": "stream",
          "name": "stdout",
          "text": [
            "Epoch [7/50]\n",
            "\tTrain Loss: 11.4918 \tValidation Loss: 11.5688\n",
            "              precision    recall  f1-score   support\n",
            "\n",
            "    BI-RADS0       0.28      0.44      0.34       327\n",
            "  BI-RADS1-2       0.59      0.53      0.56       665\n",
            "  BI-RADS4-5       0.63      0.51      0.57       618\n",
            "\n",
            "    accuracy                           0.50      1610\n",
            "   macro avg       0.50      0.49      0.49      1610\n",
            "weighted avg       0.54      0.50      0.52      1610\n",
            "\n",
            "Train Accuracy at epoch 7: 53.75%\n"
          ]
        },
        {
          "output_type": "stream",
          "name": "stderr",
          "text": [
            "100%|██████████| 235/235 [05:12<00:00,  1.33s/it]\n",
            "100%|██████████| 51/51 [00:13<00:00,  3.72it/s]\n"
          ]
        },
        {
          "output_type": "stream",
          "name": "stdout",
          "text": [
            "Epoch [8/50]\n",
            "\tTrain Loss: 10.9197 \tValidation Loss: 10.6055\n",
            "              precision    recall  f1-score   support\n",
            "\n",
            "    BI-RADS0       0.35      0.29      0.32       327\n",
            "  BI-RADS1-2       0.61      0.66      0.63       665\n",
            "  BI-RADS4-5       0.65      0.66      0.65       618\n",
            "\n",
            "    accuracy                           0.58      1610\n",
            "   macro avg       0.54      0.53      0.53      1610\n",
            "weighted avg       0.57      0.58      0.58      1610\n",
            "\n",
            "Train Accuracy at epoch 8: 55.7%\n"
          ]
        },
        {
          "output_type": "stream",
          "name": "stderr",
          "text": [
            "100%|██████████| 235/235 [05:15<00:00,  1.34s/it]\n",
            "100%|██████████| 51/51 [00:13<00:00,  3.67it/s]\n"
          ]
        },
        {
          "output_type": "stream",
          "name": "stdout",
          "text": [
            "Epoch [9/50]\n",
            "\tTrain Loss: 10.1760 \tValidation Loss: 9.3586\n",
            "              precision    recall  f1-score   support\n",
            "\n",
            "    BI-RADS0       0.30      0.46      0.37       327\n",
            "  BI-RADS1-2       0.62      0.64      0.63       665\n",
            "  BI-RADS4-5       0.73      0.50      0.59       618\n",
            "\n",
            "    accuracy                           0.55      1610\n",
            "   macro avg       0.55      0.53      0.53      1610\n",
            "weighted avg       0.60      0.55      0.56      1610\n",
            "\n",
            "Train Accuracy at epoch 9: 57.55%\n"
          ]
        },
        {
          "output_type": "stream",
          "name": "stderr",
          "text": [
            "100%|██████████| 235/235 [05:16<00:00,  1.35s/it]\n",
            "100%|██████████| 51/51 [00:13<00:00,  3.78it/s]\n"
          ]
        },
        {
          "output_type": "stream",
          "name": "stdout",
          "text": [
            "Epoch [10/50]\n",
            "\tTrain Loss: 9.6826 \tValidation Loss: 9.5177\n",
            "              precision    recall  f1-score   support\n",
            "\n",
            "    BI-RADS0       0.35      0.39      0.37       327\n",
            "  BI-RADS1-2       0.61      0.70      0.65       665\n",
            "  BI-RADS4-5       0.75      0.58      0.66       618\n",
            "\n",
            "    accuracy                           0.59      1610\n",
            "   macro avg       0.57      0.56      0.56      1610\n",
            "weighted avg       0.61      0.59      0.60      1610\n",
            "\n",
            "Train Accuracy at epoch 10: 59.49%\n"
          ]
        },
        {
          "output_type": "stream",
          "name": "stderr",
          "text": [
            "100%|██████████| 235/235 [05:20<00:00,  1.37s/it]\n",
            "100%|██████████| 51/51 [00:13<00:00,  3.67it/s]\n"
          ]
        },
        {
          "output_type": "stream",
          "name": "stdout",
          "text": [
            "Epoch [11/50]\n",
            "\tTrain Loss: 9.1261 \tValidation Loss: 8.4878\n",
            "              precision    recall  f1-score   support\n",
            "\n",
            "    BI-RADS0       0.37      0.24      0.30       327\n",
            "  BI-RADS1-2       0.65      0.74      0.69       665\n",
            "  BI-RADS4-5       0.68      0.71      0.69       618\n",
            "\n",
            "    accuracy                           0.63      1610\n",
            "   macro avg       0.57      0.56      0.56      1610\n",
            "weighted avg       0.61      0.63      0.61      1610\n",
            "\n",
            "Train Accuracy at epoch 11: 60.61%\n"
          ]
        },
        {
          "output_type": "stream",
          "name": "stderr",
          "text": [
            "100%|██████████| 235/235 [05:16<00:00,  1.35s/it]\n",
            "100%|██████████| 51/51 [00:14<00:00,  3.59it/s]\n"
          ]
        },
        {
          "output_type": "stream",
          "name": "stdout",
          "text": [
            "Epoch [12/50]\n",
            "\tTrain Loss: 8.8834 \tValidation Loss: 8.8280\n",
            "              precision    recall  f1-score   support\n",
            "\n",
            "    BI-RADS0       0.34      0.45      0.38       327\n",
            "  BI-RADS1-2       0.65      0.72      0.68       665\n",
            "  BI-RADS4-5       0.77      0.55      0.64       618\n",
            "\n",
            "    accuracy                           0.60      1610\n",
            "   macro avg       0.59      0.57      0.57      1610\n",
            "weighted avg       0.63      0.60      0.61      1610\n",
            "\n",
            "Train Accuracy at epoch 12: 60.24%\n"
          ]
        },
        {
          "output_type": "stream",
          "name": "stderr",
          "text": [
            "100%|██████████| 235/235 [05:13<00:00,  1.33s/it]\n",
            "100%|██████████| 51/51 [00:14<00:00,  3.64it/s]\n"
          ]
        },
        {
          "output_type": "stream",
          "name": "stdout",
          "text": [
            "Epoch [13/50]\n",
            "\tTrain Loss: 8.5706 \tValidation Loss: 8.4944\n",
            "              precision    recall  f1-score   support\n",
            "\n",
            "    BI-RADS0       0.32      0.43      0.37       327\n",
            "  BI-RADS1-2       0.65      0.70      0.68       665\n",
            "  BI-RADS4-5       0.78      0.58      0.66       618\n",
            "\n",
            "    accuracy                           0.60      1610\n",
            "   macro avg       0.58      0.57      0.57      1610\n",
            "weighted avg       0.63      0.60      0.61      1610\n",
            "\n",
            "Train Accuracy at epoch 13: 62.3%\n"
          ]
        },
        {
          "output_type": "stream",
          "name": "stderr",
          "text": [
            "100%|██████████| 235/235 [05:12<00:00,  1.33s/it]\n",
            "100%|██████████| 51/51 [00:14<00:00,  3.60it/s]\n"
          ]
        },
        {
          "output_type": "stream",
          "name": "stdout",
          "text": [
            "Epoch [14/50]\n",
            "\tTrain Loss: 8.0478 \tValidation Loss: 7.8977\n",
            "              precision    recall  f1-score   support\n",
            "\n",
            "    BI-RADS0       0.36      0.43      0.39       327\n",
            "  BI-RADS1-2       0.68      0.68      0.68       665\n",
            "  BI-RADS4-5       0.73      0.66      0.69       618\n",
            "\n",
            "    accuracy                           0.62      1610\n",
            "   macro avg       0.59      0.59      0.59      1610\n",
            "weighted avg       0.64      0.62      0.63      1610\n",
            "\n",
            "Train Accuracy at epoch 14: 63.28%\n"
          ]
        },
        {
          "output_type": "stream",
          "name": "stderr",
          "text": [
            "100%|██████████| 235/235 [05:14<00:00,  1.34s/it]\n",
            "100%|██████████| 51/51 [00:13<00:00,  3.72it/s]\n"
          ]
        },
        {
          "output_type": "stream",
          "name": "stdout",
          "text": [
            "Epoch [15/50]\n",
            "\tTrain Loss: 8.2327 \tValidation Loss: 8.8537\n",
            "              precision    recall  f1-score   support\n",
            "\n",
            "    BI-RADS0       0.38      0.41      0.39       327\n",
            "  BI-RADS1-2       0.68      0.72      0.70       665\n",
            "  BI-RADS4-5       0.75      0.66      0.70       618\n",
            "\n",
            "    accuracy                           0.63      1610\n",
            "   macro avg       0.60      0.60      0.60      1610\n",
            "weighted avg       0.64      0.63      0.64      1610\n",
            "\n",
            "Train Accuracy at epoch 15: 63.58%\n"
          ]
        },
        {
          "output_type": "stream",
          "name": "stderr",
          "text": [
            "100%|██████████| 235/235 [05:18<00:00,  1.35s/it]\n",
            "100%|██████████| 51/51 [00:13<00:00,  3.71it/s]\n"
          ]
        },
        {
          "output_type": "stream",
          "name": "stdout",
          "text": [
            "Epoch [16/50]\n",
            "\tTrain Loss: 8.0392 \tValidation Loss: 9.8185\n",
            "              precision    recall  f1-score   support\n",
            "\n",
            "    BI-RADS0       0.33      0.28      0.30       327\n",
            "  BI-RADS1-2       0.57      0.87      0.69       665\n",
            "  BI-RADS4-5       0.83      0.44      0.57       618\n",
            "\n",
            "    accuracy                           0.58      1610\n",
            "   macro avg       0.58      0.53      0.52      1610\n",
            "weighted avg       0.62      0.58      0.57      1610\n",
            "\n",
            "Train Accuracy at epoch 16: 64.44%\n"
          ]
        },
        {
          "output_type": "stream",
          "name": "stderr",
          "text": [
            "100%|██████████| 235/235 [05:13<00:00,  1.33s/it]\n",
            "100%|██████████| 51/51 [00:14<00:00,  3.61it/s]\n"
          ]
        },
        {
          "output_type": "stream",
          "name": "stdout",
          "text": [
            "Epoch [17/50]\n",
            "\tTrain Loss: 7.9950 \tValidation Loss: 8.3915\n",
            "              precision    recall  f1-score   support\n",
            "\n",
            "    BI-RADS0       0.39      0.46      0.42       327\n",
            "  BI-RADS1-2       0.64      0.76      0.70       665\n",
            "  BI-RADS4-5       0.81      0.56      0.67       618\n",
            "\n",
            "    accuracy                           0.62      1610\n",
            "   macro avg       0.61      0.60      0.59      1610\n",
            "weighted avg       0.66      0.62      0.63      1610\n",
            "\n",
            "Train Accuracy at epoch 17: 63.39%\n"
          ]
        },
        {
          "output_type": "stream",
          "name": "stderr",
          "text": [
            "100%|██████████| 235/235 [05:14<00:00,  1.34s/it]\n",
            "100%|██████████| 51/51 [00:14<00:00,  3.61it/s]\n"
          ]
        },
        {
          "output_type": "stream",
          "name": "stdout",
          "text": [
            "Epoch [18/50]\n",
            "\tTrain Loss: 8.0883 \tValidation Loss: 9.5993\n",
            "              precision    recall  f1-score   support\n",
            "\n",
            "    BI-RADS0       0.37      0.34      0.35       327\n",
            "  BI-RADS1-2       0.54      0.75      0.63       665\n",
            "  BI-RADS4-5       0.80      0.49      0.61       618\n",
            "\n",
            "    accuracy                           0.57      1610\n",
            "   macro avg       0.57      0.53      0.53      1610\n",
            "weighted avg       0.61      0.57      0.56      1610\n",
            "\n",
            "Train Accuracy at epoch 18: 63.23%\n"
          ]
        },
        {
          "output_type": "stream",
          "name": "stderr",
          "text": [
            "100%|██████████| 235/235 [05:10<00:00,  1.32s/it]\n",
            "100%|██████████| 51/51 [00:13<00:00,  3.70it/s]\n"
          ]
        },
        {
          "output_type": "stream",
          "name": "stdout",
          "text": [
            "Epoch [19/50]\n",
            "\tTrain Loss: 8.8048 \tValidation Loss: 8.0342\n",
            "              precision    recall  f1-score   support\n",
            "\n",
            "    BI-RADS0       0.31      0.70      0.43       327\n",
            "  BI-RADS1-2       0.71      0.57      0.63       665\n",
            "  BI-RADS4-5       0.87      0.47      0.61       618\n",
            "\n",
            "    accuracy                           0.56      1610\n",
            "   macro avg       0.63      0.58      0.56      1610\n",
            "weighted avg       0.69      0.56      0.58      1610\n",
            "\n",
            "Train Accuracy at epoch 19: 60.92%\n"
          ]
        },
        {
          "output_type": "stream",
          "name": "stderr",
          "text": [
            "100%|██████████| 235/235 [05:12<00:00,  1.33s/it]\n",
            "100%|██████████| 51/51 [00:13<00:00,  3.72it/s]\n"
          ]
        },
        {
          "output_type": "stream",
          "name": "stdout",
          "text": [
            "Epoch [20/50]\n",
            "\tTrain Loss: 7.8682 \tValidation Loss: 10.0850\n",
            "              precision    recall  f1-score   support\n",
            "\n",
            "    BI-RADS0       0.32      0.31      0.31       327\n",
            "  BI-RADS1-2       0.56      0.83      0.67       665\n",
            "  BI-RADS4-5       0.87      0.43      0.58       618\n",
            "\n",
            "    accuracy                           0.57      1610\n",
            "   macro avg       0.58      0.52      0.52      1610\n",
            "weighted avg       0.63      0.57      0.56      1610\n",
            "\n",
            "Train Accuracy at epoch 20: 63.44%\n"
          ]
        },
        {
          "output_type": "stream",
          "name": "stderr",
          "text": [
            "100%|██████████| 235/235 [05:12<00:00,  1.33s/it]\n",
            "100%|██████████| 51/51 [00:13<00:00,  3.84it/s]\n"
          ]
        },
        {
          "output_type": "stream",
          "name": "stdout",
          "text": [
            "Epoch [21/50]\n",
            "\tTrain Loss: 7.2410 \tValidation Loss: 7.5331\n",
            "              precision    recall  f1-score   support\n",
            "\n",
            "    BI-RADS0       0.35      0.62      0.45       327\n",
            "  BI-RADS1-2       0.66      0.63      0.65       665\n",
            "  BI-RADS4-5       0.86      0.53      0.65       618\n",
            "\n",
            "    accuracy                           0.59      1610\n",
            "   macro avg       0.62      0.59      0.58      1610\n",
            "weighted avg       0.67      0.59      0.61      1610\n",
            "\n",
            "Train Accuracy at epoch 21: 65.49%\n"
          ]
        },
        {
          "output_type": "stream",
          "name": "stderr",
          "text": [
            "100%|██████████| 235/235 [05:11<00:00,  1.32s/it]\n",
            "100%|██████████| 51/51 [00:13<00:00,  3.73it/s]\n"
          ]
        },
        {
          "output_type": "stream",
          "name": "stdout",
          "text": [
            "Epoch [22/50]\n",
            "\tTrain Loss: 6.9038 \tValidation Loss: 7.4464\n",
            "              precision    recall  f1-score   support\n",
            "\n",
            "    BI-RADS0       0.35      0.59      0.44       327\n",
            "  BI-RADS1-2       0.69      0.61      0.65       665\n",
            "  BI-RADS4-5       0.80      0.60      0.69       618\n",
            "\n",
            "    accuracy                           0.60      1610\n",
            "   macro avg       0.61      0.60      0.59      1610\n",
            "weighted avg       0.66      0.60      0.62      1610\n",
            "\n",
            "Train Accuracy at epoch 22: 66.49%\n"
          ]
        },
        {
          "output_type": "stream",
          "name": "stderr",
          "text": [
            "100%|██████████| 235/235 [05:11<00:00,  1.33s/it]\n",
            "100%|██████████| 51/51 [00:13<00:00,  3.73it/s]\n"
          ]
        },
        {
          "output_type": "stream",
          "name": "stdout",
          "text": [
            "Epoch [23/50]\n",
            "\tTrain Loss: 6.5261 \tValidation Loss: 6.9817\n",
            "              precision    recall  f1-score   support\n",
            "\n",
            "    BI-RADS0       0.36      0.46      0.41       327\n",
            "  BI-RADS1-2       0.70      0.65      0.67       665\n",
            "  BI-RADS4-5       0.74      0.70      0.72       618\n",
            "\n",
            "    accuracy                           0.63      1610\n",
            "   macro avg       0.60      0.60      0.60      1610\n",
            "weighted avg       0.65      0.63      0.64      1610\n",
            "\n",
            "Train Accuracy at epoch 23: 67.83%\n"
          ]
        },
        {
          "output_type": "stream",
          "name": "stderr",
          "text": [
            "100%|██████████| 235/235 [05:09<00:00,  1.32s/it]\n",
            "100%|██████████| 51/51 [00:13<00:00,  3.75it/s]\n"
          ]
        },
        {
          "output_type": "stream",
          "name": "stdout",
          "text": [
            "Epoch [24/50]\n",
            "\tTrain Loss: 6.2206 \tValidation Loss: 7.2614\n",
            "              precision    recall  f1-score   support\n",
            "\n",
            "    BI-RADS0       0.40      0.43      0.42       327\n",
            "  BI-RADS1-2       0.67      0.72      0.69       665\n",
            "  BI-RADS4-5       0.78      0.69      0.73       618\n",
            "\n",
            "    accuracy                           0.65      1610\n",
            "   macro avg       0.62      0.61      0.61      1610\n",
            "weighted avg       0.66      0.65      0.65      1610\n",
            "\n",
            "Train Accuracy at epoch 24: 68.4%\n"
          ]
        },
        {
          "output_type": "stream",
          "name": "stderr",
          "text": [
            "100%|██████████| 235/235 [05:15<00:00,  1.34s/it]\n",
            "100%|██████████| 51/51 [00:13<00:00,  3.79it/s]\n"
          ]
        },
        {
          "output_type": "stream",
          "name": "stdout",
          "text": [
            "Epoch [25/50]\n",
            "\tTrain Loss: 6.0920 \tValidation Loss: 7.7650\n",
            "              precision    recall  f1-score   support\n",
            "\n",
            "    BI-RADS0       0.37      0.57      0.45       327\n",
            "  BI-RADS1-2       0.68      0.69      0.68       665\n",
            "  BI-RADS4-5       0.85      0.59      0.70       618\n",
            "\n",
            "    accuracy                           0.63      1610\n",
            "   macro avg       0.63      0.62      0.61      1610\n",
            "weighted avg       0.68      0.63      0.64      1610\n",
            "\n",
            "Train Accuracy at epoch 25: 68.88%\n"
          ]
        },
        {
          "output_type": "stream",
          "name": "stderr",
          "text": [
            "100%|██████████| 235/235 [05:12<00:00,  1.33s/it]\n",
            "100%|██████████| 51/51 [00:13<00:00,  3.74it/s]\n"
          ]
        },
        {
          "output_type": "stream",
          "name": "stdout",
          "text": [
            "Epoch [26/50]\n",
            "\tTrain Loss: 5.5910 \tValidation Loss: 7.7206\n",
            "              precision    recall  f1-score   support\n",
            "\n",
            "    BI-RADS0       0.38      0.54      0.45       327\n",
            "  BI-RADS1-2       0.66      0.72      0.69       665\n",
            "  BI-RADS4-5       0.82      0.57      0.68       618\n",
            "\n",
            "    accuracy                           0.63      1610\n",
            "   macro avg       0.62      0.61      0.60      1610\n",
            "weighted avg       0.67      0.63      0.64      1610\n",
            "\n",
            "Train Accuracy at epoch 26: 70.09%\n"
          ]
        },
        {
          "output_type": "stream",
          "name": "stderr",
          "text": [
            "100%|██████████| 235/235 [05:16<00:00,  1.35s/it]\n",
            "100%|██████████| 51/51 [00:13<00:00,  3.72it/s]\n"
          ]
        },
        {
          "output_type": "stream",
          "name": "stdout",
          "text": [
            "Epoch [27/50]\n",
            "\tTrain Loss: 6.2816 \tValidation Loss: 10.3223\n",
            "              precision    recall  f1-score   support\n",
            "\n",
            "    BI-RADS0       0.37      0.21      0.27       327\n",
            "  BI-RADS1-2       0.57      0.83      0.68       665\n",
            "  BI-RADS4-5       0.77      0.57      0.65       618\n",
            "\n",
            "    accuracy                           0.60      1610\n",
            "   macro avg       0.57      0.54      0.53      1610\n",
            "weighted avg       0.61      0.60      0.58      1610\n",
            "\n",
            "Train Accuracy at epoch 27: 68.01%\n"
          ]
        },
        {
          "output_type": "stream",
          "name": "stderr",
          "text": [
            "100%|██████████| 235/235 [05:17<00:00,  1.35s/it]\n",
            "100%|██████████| 51/51 [00:14<00:00,  3.60it/s]\n"
          ]
        },
        {
          "output_type": "stream",
          "name": "stdout",
          "text": [
            "Epoch [28/50]\n",
            "\tTrain Loss: 7.9486 \tValidation Loss: 9.1718\n",
            "              precision    recall  f1-score   support\n",
            "\n",
            "    BI-RADS0       0.33      0.47      0.38       327\n",
            "  BI-RADS1-2       0.64      0.70      0.67       665\n",
            "  BI-RADS4-5       0.79      0.53      0.63       618\n",
            "\n",
            "    accuracy                           0.59      1610\n",
            "   macro avg       0.58      0.56      0.56      1610\n",
            "weighted avg       0.63      0.59      0.60      1610\n",
            "\n",
            "Train Accuracy at epoch 28: 63.76%\n"
          ]
        },
        {
          "output_type": "stream",
          "name": "stderr",
          "text": [
            "100%|██████████| 235/235 [05:16<00:00,  1.35s/it]\n",
            "100%|██████████| 51/51 [00:13<00:00,  3.69it/s]\n"
          ]
        },
        {
          "output_type": "stream",
          "name": "stdout",
          "text": [
            "Epoch [29/50]\n",
            "\tTrain Loss: 6.5225 \tValidation Loss: 8.2391\n",
            "              precision    recall  f1-score   support\n",
            "\n",
            "    BI-RADS0       0.39      0.35      0.37       327\n",
            "  BI-RADS1-2       0.63      0.78      0.69       665\n",
            "  BI-RADS4-5       0.79      0.62      0.70       618\n",
            "\n",
            "    accuracy                           0.63      1610\n",
            "   macro avg       0.60      0.59      0.59      1610\n",
            "weighted avg       0.64      0.63      0.63      1610\n",
            "\n",
            "Train Accuracy at epoch 29: 68.32%\n"
          ]
        },
        {
          "output_type": "stream",
          "name": "stderr",
          "text": [
            "100%|██████████| 235/235 [05:14<00:00,  1.34s/it]\n",
            "100%|██████████| 51/51 [00:13<00:00,  3.81it/s]\n"
          ]
        },
        {
          "output_type": "stream",
          "name": "stdout",
          "text": [
            "Epoch [30/50]\n",
            "\tTrain Loss: 5.9199 \tValidation Loss: 16.0321\n",
            "              precision    recall  f1-score   support\n",
            "\n",
            "    BI-RADS0       0.38      0.28      0.32       327\n",
            "  BI-RADS1-2       0.59      0.81      0.69       665\n",
            "  BI-RADS4-5       0.82      0.61      0.70       618\n",
            "\n",
            "    accuracy                           0.63      1610\n",
            "   macro avg       0.60      0.57      0.57      1610\n",
            "weighted avg       0.64      0.63      0.62      1610\n",
            "\n",
            "Train Accuracy at epoch 30: 69.34%\n"
          ]
        },
        {
          "output_type": "stream",
          "name": "stderr",
          "text": [
            "100%|██████████| 235/235 [05:17<00:00,  1.35s/it]\n",
            "100%|██████████| 51/51 [00:14<00:00,  3.62it/s]\n"
          ]
        },
        {
          "output_type": "stream",
          "name": "stdout",
          "text": [
            "Epoch [31/50]\n",
            "\tTrain Loss: 5.4633 \tValidation Loss: 8.9553\n",
            "              precision    recall  f1-score   support\n",
            "\n",
            "    BI-RADS0       0.42      0.34      0.38       327\n",
            "  BI-RADS1-2       0.61      0.84      0.71       665\n",
            "  BI-RADS4-5       0.85      0.59      0.70       618\n",
            "\n",
            "    accuracy                           0.64      1610\n",
            "   macro avg       0.63      0.59      0.59      1610\n",
            "weighted avg       0.66      0.64      0.64      1610\n",
            "\n",
            "Train Accuracy at epoch 31: 70.85%\n"
          ]
        },
        {
          "output_type": "stream",
          "name": "stderr",
          "text": [
            "100%|██████████| 235/235 [05:22<00:00,  1.37s/it]\n",
            "100%|██████████| 51/51 [00:13<00:00,  3.77it/s]\n"
          ]
        },
        {
          "output_type": "stream",
          "name": "stdout",
          "text": [
            "Epoch [32/50]\n",
            "\tTrain Loss: 5.4260 \tValidation Loss: 26.5964\n",
            "              precision    recall  f1-score   support\n",
            "\n",
            "    BI-RADS0       0.32      0.11      0.17       327\n",
            "  BI-RADS1-2       0.81      0.22      0.34       665\n",
            "  BI-RADS4-5       0.44      0.94      0.60       618\n",
            "\n",
            "    accuracy                           0.48      1610\n",
            "   macro avg       0.53      0.42      0.37      1610\n",
            "weighted avg       0.57      0.48      0.41      1610\n",
            "\n",
            "Train Accuracy at epoch 32: 71.28%\n"
          ]
        },
        {
          "output_type": "stream",
          "name": "stderr",
          "text": [
            "100%|██████████| 235/235 [05:14<00:00,  1.34s/it]\n",
            "100%|██████████| 51/51 [00:13<00:00,  3.71it/s]\n"
          ]
        },
        {
          "output_type": "stream",
          "name": "stdout",
          "text": [
            "Epoch [33/50]\n",
            "\tTrain Loss: 9.2088 \tValidation Loss: 9.4387\n",
            "              precision    recall  f1-score   support\n",
            "\n",
            "    BI-RADS0       0.31      0.54      0.39       327\n",
            "  BI-RADS1-2       0.64      0.65      0.64       665\n",
            "  BI-RADS4-5       0.83      0.47      0.60       618\n",
            "\n",
            "    accuracy                           0.56      1610\n",
            "   macro avg       0.59      0.56      0.55      1610\n",
            "weighted avg       0.64      0.56      0.58      1610\n",
            "\n",
            "Train Accuracy at epoch 33: 59.39%\n"
          ]
        },
        {
          "output_type": "stream",
          "name": "stderr",
          "text": [
            "100%|██████████| 235/235 [05:15<00:00,  1.34s/it]\n",
            "100%|██████████| 51/51 [00:14<00:00,  3.55it/s]\n"
          ]
        },
        {
          "output_type": "stream",
          "name": "stdout",
          "text": [
            "Epoch [34/50]\n",
            "\tTrain Loss: 8.1871 \tValidation Loss: 8.8364\n",
            "              precision    recall  f1-score   support\n",
            "\n",
            "    BI-RADS0       0.32      0.41      0.36       327\n",
            "  BI-RADS1-2       0.61      0.73      0.67       665\n",
            "  BI-RADS4-5       0.80      0.52      0.63       618\n",
            "\n",
            "    accuracy                           0.58      1610\n",
            "   macro avg       0.58      0.55      0.55      1610\n",
            "weighted avg       0.63      0.58      0.59      1610\n",
            "\n",
            "Train Accuracy at epoch 34: 62.39%\n"
          ]
        },
        {
          "output_type": "stream",
          "name": "stderr",
          "text": [
            "100%|██████████| 235/235 [05:19<00:00,  1.36s/it]\n",
            "100%|██████████| 51/51 [00:13<00:00,  3.74it/s]\n"
          ]
        },
        {
          "output_type": "stream",
          "name": "stdout",
          "text": [
            "Epoch [35/50]\n",
            "\tTrain Loss: 8.3342 \tValidation Loss: 8.4143\n",
            "              precision    recall  f1-score   support\n",
            "\n",
            "    BI-RADS0       0.33      0.57      0.42       327\n",
            "  BI-RADS1-2       0.68      0.62      0.65       665\n",
            "  BI-RADS4-5       0.80      0.56      0.66       618\n",
            "\n",
            "    accuracy                           0.59      1610\n",
            "   macro avg       0.60      0.58      0.57      1610\n",
            "weighted avg       0.65      0.59      0.61      1610\n",
            "\n",
            "Train Accuracy at epoch 35: 62.45%\n"
          ]
        },
        {
          "output_type": "stream",
          "name": "stderr",
          "text": [
            "100%|██████████| 235/235 [05:16<00:00,  1.35s/it]\n",
            "100%|██████████| 51/51 [00:13<00:00,  3.72it/s]\n"
          ]
        },
        {
          "output_type": "stream",
          "name": "stdout",
          "text": [
            "Epoch [36/50]\n",
            "\tTrain Loss: 7.1981 \tValidation Loss: 8.0177\n",
            "              precision    recall  f1-score   support\n",
            "\n",
            "    BI-RADS0       0.33      0.56      0.42       327\n",
            "  BI-RADS1-2       0.67      0.64      0.65       665\n",
            "  BI-RADS4-5       0.81      0.55      0.65       618\n",
            "\n",
            "    accuracy                           0.59      1610\n",
            "   macro avg       0.60      0.58      0.57      1610\n",
            "weighted avg       0.65      0.59      0.60      1610\n",
            "\n",
            "Train Accuracy at epoch 36: 65.89%\n"
          ]
        },
        {
          "output_type": "stream",
          "name": "stderr",
          "text": [
            "100%|██████████| 235/235 [05:12<00:00,  1.33s/it]\n",
            "100%|██████████| 51/51 [00:13<00:00,  3.88it/s]\n"
          ]
        },
        {
          "output_type": "stream",
          "name": "stdout",
          "text": [
            "Epoch [37/50]\n",
            "\tTrain Loss: 7.0095 \tValidation Loss: 7.4396\n",
            "              precision    recall  f1-score   support\n",
            "\n",
            "    BI-RADS0       0.37      0.55      0.44       327\n",
            "  BI-RADS1-2       0.66      0.67      0.67       665\n",
            "  BI-RADS4-5       0.81      0.58      0.68       618\n",
            "\n",
            "    accuracy                           0.61      1610\n",
            "   macro avg       0.61      0.60      0.59      1610\n",
            "weighted avg       0.66      0.61      0.62      1610\n",
            "\n",
            "Train Accuracy at epoch 37: 66.54%\n"
          ]
        },
        {
          "output_type": "stream",
          "name": "stderr",
          "text": [
            "100%|██████████| 235/235 [05:11<00:00,  1.32s/it]\n",
            "100%|██████████| 51/51 [00:14<00:00,  3.62it/s]\n"
          ]
        },
        {
          "output_type": "stream",
          "name": "stdout",
          "text": [
            "Epoch [38/50]\n",
            "\tTrain Loss: 6.2760 \tValidation Loss: 7.1827\n",
            "              precision    recall  f1-score   support\n",
            "\n",
            "    BI-RADS0       0.38      0.48      0.42       327\n",
            "  BI-RADS1-2       0.67      0.68      0.68       665\n",
            "  BI-RADS4-5       0.78      0.67      0.72       618\n",
            "\n",
            "    accuracy                           0.63      1610\n",
            "   macro avg       0.61      0.61      0.61      1610\n",
            "weighted avg       0.65      0.63      0.64      1610\n",
            "\n",
            "Train Accuracy at epoch 38: 68.44%\n"
          ]
        },
        {
          "output_type": "stream",
          "name": "stderr",
          "text": [
            "100%|██████████| 235/235 [05:08<00:00,  1.31s/it]\n",
            "100%|██████████| 51/51 [00:13<00:00,  3.69it/s]\n"
          ]
        },
        {
          "output_type": "stream",
          "name": "stdout",
          "text": [
            "Epoch [39/50]\n",
            "\tTrain Loss: 5.9141 \tValidation Loss: 8.0763\n",
            "              precision    recall  f1-score   support\n",
            "\n",
            "    BI-RADS0       0.33      0.58      0.42       327\n",
            "  BI-RADS1-2       0.66      0.68      0.67       665\n",
            "  BI-RADS4-5       0.87      0.48      0.62       618\n",
            "\n",
            "    accuracy                           0.58      1610\n",
            "   macro avg       0.62      0.58      0.57      1610\n",
            "weighted avg       0.67      0.58      0.60      1610\n",
            "\n",
            "Train Accuracy at epoch 39: 69.92%\n"
          ]
        },
        {
          "output_type": "stream",
          "name": "stderr",
          "text": [
            "100%|██████████| 235/235 [05:06<00:00,  1.30s/it]\n",
            "100%|██████████| 51/51 [00:13<00:00,  3.74it/s]\n"
          ]
        },
        {
          "output_type": "stream",
          "name": "stdout",
          "text": [
            "Epoch [40/50]\n",
            "\tTrain Loss: 5.4318 \tValidation Loss: 7.3225\n",
            "              precision    recall  f1-score   support\n",
            "\n",
            "    BI-RADS0       0.39      0.47      0.43       327\n",
            "  BI-RADS1-2       0.67      0.73      0.70       665\n",
            "  BI-RADS4-5       0.78      0.63      0.70       618\n",
            "\n",
            "    accuracy                           0.64      1610\n",
            "   macro avg       0.62      0.61      0.61      1610\n",
            "weighted avg       0.66      0.64      0.64      1610\n",
            "\n",
            "Train Accuracy at epoch 40: 70.85%\n"
          ]
        },
        {
          "output_type": "stream",
          "name": "stderr",
          "text": [
            "100%|██████████| 235/235 [05:09<00:00,  1.32s/it]\n",
            "100%|██████████| 51/51 [00:13<00:00,  3.83it/s]\n"
          ]
        },
        {
          "output_type": "stream",
          "name": "stdout",
          "text": [
            "Epoch [41/50]\n",
            "\tTrain Loss: 5.3777 \tValidation Loss: 6.8227\n",
            "              precision    recall  f1-score   support\n",
            "\n",
            "    BI-RADS0       0.40      0.50      0.44       327\n",
            "  BI-RADS1-2       0.68      0.70      0.69       665\n",
            "  BI-RADS4-5       0.77      0.64      0.70       618\n",
            "\n",
            "    accuracy                           0.64      1610\n",
            "   macro avg       0.62      0.61      0.61      1610\n",
            "weighted avg       0.66      0.64      0.64      1610\n",
            "\n",
            "Train Accuracy at epoch 41: 70.24%\n"
          ]
        },
        {
          "output_type": "stream",
          "name": "stderr",
          "text": [
            "100%|██████████| 235/235 [05:08<00:00,  1.31s/it]\n",
            "100%|██████████| 51/51 [00:14<00:00,  3.60it/s]\n"
          ]
        },
        {
          "output_type": "stream",
          "name": "stdout",
          "text": [
            "Epoch [42/50]\n",
            "\tTrain Loss: 5.1895 \tValidation Loss: 7.3623\n",
            "              precision    recall  f1-score   support\n",
            "\n",
            "    BI-RADS0       0.40      0.48      0.44       327\n",
            "  BI-RADS1-2       0.67      0.72      0.70       665\n",
            "  BI-RADS4-5       0.79      0.63      0.70       618\n",
            "\n",
            "    accuracy                           0.64      1610\n",
            "   macro avg       0.62      0.61      0.61      1610\n",
            "weighted avg       0.66      0.64      0.65      1610\n",
            "\n",
            "Train Accuracy at epoch 42: 71.13%\n"
          ]
        },
        {
          "output_type": "stream",
          "name": "stderr",
          "text": [
            "100%|██████████| 235/235 [05:06<00:00,  1.31s/it]\n",
            "100%|██████████| 51/51 [00:13<00:00,  3.69it/s]\n"
          ]
        },
        {
          "output_type": "stream",
          "name": "stdout",
          "text": [
            "Epoch [43/50]\n",
            "\tTrain Loss: 4.7547 \tValidation Loss: 7.2167\n",
            "              precision    recall  f1-score   support\n",
            "\n",
            "    BI-RADS0       0.36      0.54      0.43       327\n",
            "  BI-RADS1-2       0.70      0.62      0.66       665\n",
            "  BI-RADS4-5       0.76      0.66      0.71       618\n",
            "\n",
            "    accuracy                           0.62      1610\n",
            "   macro avg       0.61      0.61      0.60      1610\n",
            "weighted avg       0.65      0.62      0.63      1610\n",
            "\n",
            "Train Accuracy at epoch 43: 73.31%\n"
          ]
        },
        {
          "output_type": "stream",
          "name": "stderr",
          "text": [
            "100%|██████████| 235/235 [05:06<00:00,  1.31s/it]\n",
            "100%|██████████| 51/51 [00:13<00:00,  3.83it/s]\n"
          ]
        },
        {
          "output_type": "stream",
          "name": "stdout",
          "text": [
            "Epoch [44/50]\n",
            "\tTrain Loss: 4.8222 \tValidation Loss: 8.7216\n",
            "              precision    recall  f1-score   support\n",
            "\n",
            "    BI-RADS0       0.38      0.42      0.40       327\n",
            "  BI-RADS1-2       0.62      0.75      0.68       665\n",
            "  BI-RADS4-5       0.80      0.57      0.67       618\n",
            "\n",
            "    accuracy                           0.61      1610\n",
            "   macro avg       0.60      0.58      0.58      1610\n",
            "weighted avg       0.64      0.61      0.62      1610\n",
            "\n",
            "Train Accuracy at epoch 44: 72.38%\n"
          ]
        },
        {
          "output_type": "stream",
          "name": "stderr",
          "text": [
            "100%|██████████| 235/235 [05:06<00:00,  1.31s/it]\n",
            "100%|██████████| 51/51 [00:13<00:00,  3.76it/s]\n"
          ]
        },
        {
          "output_type": "stream",
          "name": "stdout",
          "text": [
            "Epoch [45/50]\n",
            "\tTrain Loss: 4.8468 \tValidation Loss: 8.3002\n",
            "              precision    recall  f1-score   support\n",
            "\n",
            "    BI-RADS0       0.37      0.51      0.43       327\n",
            "  BI-RADS1-2       0.65      0.70      0.68       665\n",
            "  BI-RADS4-5       0.81      0.58      0.68       618\n",
            "\n",
            "    accuracy                           0.62      1610\n",
            "   macro avg       0.61      0.60      0.59      1610\n",
            "weighted avg       0.66      0.62      0.63      1610\n",
            "\n",
            "Train Accuracy at epoch 45: 72.69%\n"
          ]
        },
        {
          "output_type": "stream",
          "name": "stderr",
          "text": [
            "100%|██████████| 235/235 [05:06<00:00,  1.30s/it]\n",
            "100%|██████████| 51/51 [00:13<00:00,  3.75it/s]\n"
          ]
        },
        {
          "output_type": "stream",
          "name": "stdout",
          "text": [
            "Epoch [46/50]\n",
            "\tTrain Loss: 4.2503 \tValidation Loss: 7.4044\n",
            "              precision    recall  f1-score   support\n",
            "\n",
            "    BI-RADS0       0.40      0.56      0.46       327\n",
            "  BI-RADS1-2       0.71      0.59      0.64       665\n",
            "  BI-RADS4-5       0.72      0.70      0.71       618\n",
            "\n",
            "    accuracy                           0.63      1610\n",
            "   macro avg       0.61      0.62      0.61      1610\n",
            "weighted avg       0.65      0.63      0.63      1610\n",
            "\n",
            "Train Accuracy at epoch 46: 74.56%\n"
          ]
        },
        {
          "output_type": "stream",
          "name": "stderr",
          "text": [
            "100%|██████████| 235/235 [05:06<00:00,  1.30s/it]\n",
            "100%|██████████| 51/51 [00:14<00:00,  3.63it/s]\n"
          ]
        },
        {
          "output_type": "stream",
          "name": "stdout",
          "text": [
            "Epoch [47/50]\n",
            "\tTrain Loss: 3.8408 \tValidation Loss: 8.2849\n",
            "              precision    recall  f1-score   support\n",
            "\n",
            "    BI-RADS0       0.37      0.47      0.42       327\n",
            "  BI-RADS1-2       0.65      0.76      0.70       665\n",
            "  BI-RADS4-5       0.86      0.58      0.69       618\n",
            "\n",
            "    accuracy                           0.63      1610\n",
            "   macro avg       0.63      0.60      0.60      1610\n",
            "weighted avg       0.67      0.63      0.64      1610\n",
            "\n",
            "Train Accuracy at epoch 47: 75.29%\n"
          ]
        },
        {
          "output_type": "stream",
          "name": "stderr",
          "text": [
            " 20%|██        | 47/235 [01:02<04:35,  1.47s/it]"
          ]
        }
      ]
    },
    {
      "cell_type": "markdown",
      "source": [
        "# Test"
      ],
      "metadata": {
        "id": "QU1nmrrlpzH5"
      }
    },
    {
      "cell_type": "code",
      "source": [
        "criterion = FocalLoss(weight=class_weights).to(device)\n",
        "\n",
        "model = t.load(f\"/content/drive/MyDrive/{model_name}_{task}_{batch_size}_{data_list}/direct_model.pt\")\n",
        "criterion_state_dict = t.load(f\"/content/drive/MyDrive/{model_name}_{task}_{batch_size}_{data_list}/criter.pt\")\n",
        "criterion.load_state_dict(criterion_state_dict)\n",
        "\n",
        "model.eval()\n",
        "test_loss = 0.0\n",
        "test_pred_list = []\n",
        "label_list = []\n",
        "\n",
        "with t.no_grad():\n",
        "    for sample in tqdm(test_loader):\n",
        "        label = sample['label'].to(device)\n",
        "        label_list.extend(t.max(label, dim = 1)[1].to('cpu').detach().numpy())\n",
        "        outputs = model(sample)\n",
        "        loss = criterion(outputs, label.float())\n",
        "        test_loss += loss.item()\n",
        "        _, test_predict = t.max(outputs, dim=1)\n",
        "        test_pred_list.extend(test_predict.to('cpu').detach().numpy())\n",
        "\n",
        "print(\"Test Loss: \", round(test_loss,4))\n",
        "k = classification_report(label_list, test_pred_list, target_names=target_names)\n",
        "print(k)"
      ],
      "metadata": {
        "id": "18bIFZc3pyvS"
      },
      "execution_count": null,
      "outputs": []
    }
  ]
}